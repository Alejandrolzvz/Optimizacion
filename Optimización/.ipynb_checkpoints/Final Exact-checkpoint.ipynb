{
 "metadata": {
  "language_info": {
   "codemirror_mode": {
    "name": "ipython",
    "version": 3
   },
   "file_extension": ".py",
   "mimetype": "text/x-python",
   "name": "python",
   "nbconvert_exporter": "python",
   "pygments_lexer": "ipython3",
   "version": "3.7.9-final"
  },
  "orig_nbformat": 2,
  "kernelspec": {
   "name": "python3",
   "display_name": "Python 3"
  }
 },
 "nbformat": 4,
 "nbformat_minor": 2,
 "cells": [
  {
   "cell_type": "code",
   "execution_count": 1,
   "metadata": {},
   "outputs": [],
   "source": [
    "from docplex.mp.model import Model  \n",
    "import pandas as pd\n",
    "import random"
   ]
  },
  {
   "cell_type": "code",
   "execution_count": 2,
   "metadata": {},
   "outputs": [],
   "source": [
    "mdl = Model('Parallel Machine Scheduling with Sequence-Dependent Setup Times')\n",
    "sij_df,pj_df,cij_df = pd.read_excel('Tabla Instancia.xlsx',index_col='Sij'),pd.read_excel('Tabla Instancia.xlsx',sheet_name='Pj',index_col='Pj'), pd.read_excel('Tabla Instancia.xlsx', index_col='Cij', sheet_name='Cij')\n",
    "pj_df = pj_df.rename(columns={'Unnamed: 1': 'Time'})"
   ]
  },
  {
   "cell_type": "code",
   "execution_count": 3,
   "metadata": {},
   "outputs": [],
   "source": [
    "machines = 4\n",
    "Sa = pj_df.index"
   ]
  },
  {
   "cell_type": "code",
   "execution_count": 58,
   "metadata": {},
   "outputs": [],
   "source": [
    "arcos =[(i,j) for i in range(len(Sa)) for j in range(len(Sa)) if i!=j]\n",
    "jobs = list(range(len(Sa)))\n",
    "K = jobs\n",
    "matriz_costos = {(i,j):cij_df.iloc[i][j] for i,j in arcos}"
   ]
  },
  {
   "cell_type": "code",
   "execution_count": 62,
   "metadata": {},
   "outputs": [],
   "source": [
    "y=mdl.binary_var_dict(arcos,name='y')"
   ]
  },
  {
   "source": [
    "# Objective function\n",
    "\n",
    "$Min \\; Z= \\; \\displaystyle\\sum_{j=1}^{n}C_{0j}\\sum_{k=1}^{N} Ky^{k}_{0j}+\\sum_{i=1}^{n}\\sum_{j=1, j\\neq1}^{n}C_{ij}\\sum_{k=1}^{N-1} Ky^{k}_{ij}$"
   ],
   "cell_type": "markdown",
   "metadata": {}
  },
  {
   "cell_type": "code",
   "execution_count": 67,
   "metadata": {},
   "outputs": [
    {
     "output_type": "error",
     "ename": "SyntaxError",
     "evalue": "invalid syntax (<ipython-input-67-b0f869a177c9>, line 1)",
     "traceback": [
      "\u001b[1;36m  File \u001b[1;32m\"<ipython-input-67-b0f869a177c9>\"\u001b[1;36m, line \u001b[1;32m1\u001b[0m\n\u001b[1;33m    mdl.minimize(mdl.sum(cij_df.iloc[0][j] * mdl.sum (K[k] * jobs[0][j][k]*y for k in range(1,len(K)+1) for j in range(1,len(jobs)+1))) + mdl.sum(cij_df[i][j] * mdl.sum(k* x[i][j][k] for k in range(len(jobs)))for i in range(len(jobs)+1)) for j in range(len(jobs)+1))))\u001b[0m\n\u001b[1;37m                                                                                                                                                                                                                                                                          ^\u001b[0m\n\u001b[1;31mSyntaxError\u001b[0m\u001b[1;31m:\u001b[0m invalid syntax\n"
     ]
    }
   ],
   "source": [
    "mdl.minimize(mdl.sum(cij_df.iloc[0][j] * mdl.sum (K[k] * jobs[0][j][k]*y for k in range(1,len(K)+1) for j in range(1,len(jobs)+1))) + mdl.sum(cij_df[i][j] * mdl.sum(k* x[i][j][k] for k in range(len(jobs)))for i in range(len(jobs)+1)) for j in range(len(jobs)+1))))\n",
    "\n"
   ]
  },
  {
   "cell_type": "code",
   "execution_count": 65,
   "metadata": {},
   "outputs": [
    {
     "output_type": "execute_result",
     "data": {
      "text/plain": [
       "[0, 1, 2, 3, 4, 5, 6, 7, 8, 9, 10, 11, 12, 13, 14, 15]"
      ]
     },
     "metadata": {},
     "execution_count": 65
    }
   ],
   "source": [
    "K"
   ]
  },
  {
   "cell_type": "code",
   "execution_count": null,
   "metadata": {},
   "outputs": [],
   "source": []
  }
 ]
}