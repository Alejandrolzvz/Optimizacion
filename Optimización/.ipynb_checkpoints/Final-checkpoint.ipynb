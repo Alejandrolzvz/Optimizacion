{
 "metadata": {
  "language_info": {
   "codemirror_mode": {
    "name": "ipython",
    "version": 3
   },
   "file_extension": ".py",
   "mimetype": "text/x-python",
   "name": "python",
   "nbconvert_exporter": "python",
   "pygments_lexer": "ipython3",
   "version": "3.7.9-final"
  },
  "orig_nbformat": 2,
  "kernelspec": {
   "name": "python3",
   "display_name": "Python 3.7.9 64-bit ('CPLEX': conda)",
   "metadata": {
    "interpreter": {
     "hash": "c37beae6d82f29a37bf848d62a896ff4e3cf3a168205d062f6d48793343d2431"
    }
   }
  }
 },
 "nbformat": 4,
 "nbformat_minor": 2,
 "cells": [
  {
   "cell_type": "code",
   "execution_count": 1,
   "metadata": {},
   "outputs": [],
   "source": [
    "from docplex.mp.model import Model  \n",
    "import pandas as pd\n",
    "import random as rndm"
   ]
  },
  {
   "cell_type": "code",
   "execution_count": 2,
   "metadata": {},
   "outputs": [],
   "source": [
    "model = Model('Parallel Machine Scheduling with Sequence-Dependent Setup Times')\n",
    "sij_df,cij_df,pj_df = pd.read_excel('Tabla Instancia.xlsx',index_col='Sij'), pd.read_excel('Tabla Instancia.xlsx',sheet_name='Cij', index_col='Cij'),pd.read_excel('Tabla Instancia.xlsx',sheet_name='Pj',index_col='Pj')\n",
    "pj_df = pj_df.rename(columns={'Unnamed: 1': 'Time'})"
   ]
  },
  {
   "source": [
    "# Heuristic"
   ],
   "cell_type": "markdown",
   "metadata": {}
  },
  {
   "cell_type": "code",
   "execution_count": 3,
   "metadata": {},
   "outputs": [],
   "source": [
    "def TCT(mach):\n",
    "    res = mseq[mach]['TCT']\n",
    "    return res"
   ]
  },
  {
   "cell_type": "code",
   "execution_count": 4,
   "metadata": {},
   "outputs": [],
   "source": [
    "def lowestTCT(machines):\n",
    "    lowesttct=9999\n",
    "    maq=[]\n",
    "    for i in range(1,machines+1):\n",
    "        temp = 9999\n",
    "        temp = TCT(i)\n",
    "        if temp <= lowesttct:\n",
    "            lowesttct = temp\n",
    "            maq = [i]\n",
    "    return maq"
   ]
  },
  {
   "cell_type": "code",
   "execution_count": 5,
   "metadata": {},
   "outputs": [],
   "source": [
    "def time(seq):\n",
    "    timecheck = 0\n",
    "    timer = 0\n",
    "    for i in range(len(seq)):\n",
    "        if i == 0:\n",
    "            timecheck = 0\n",
    "        else:\n",
    "            timer += cij_df.iloc[seq[i-1],seq[i]]\n",
    "            timecheck += cij_df.iloc[seq[i-1],seq[i]]+timer\n",
    "    return timecheck-timer"
   ]
  },
  {
   "cell_type": "code",
   "execution_count": 6,
   "metadata": {},
   "outputs": [],
   "source": [
    "def lowestinsertion(machines):\n",
    "    lowestinsertion = 999\n",
    "    for i in machines:\n",
    "        temp = 9999\n",
    "        temp = TCT(i)\n",
    "        if temp <= lowesttct:\n",
    "            lowesttct = temp\n",
    "            maq.append(i)\n",
    "    return maq"
   ]
  },
  {
   "cell_type": "code",
   "execution_count": 7,
   "metadata": {},
   "outputs": [
    {
     "output_type": "execute_result",
     "data": {
      "text/plain": [
       "4398"
      ]
     },
     "metadata": {},
     "execution_count": 7
    }
   ],
   "source": [
    "Sa = cij_df.index\n",
    "machines = 4\n",
    "mseq = {}\n",
    "for i in range(1,machines+1):\n",
    "    initialjob = Sa[0]\n",
    "    mseq[i] = {'TCT': 0, 'Sequence': [initialjob]}\n",
    "    mseq[i]['TCT'] = time(mseq[i]['Sequence'])\n",
    "Sa = cij_df.sort_values([0],axis=0).index\n",
    "Sa = Sa.drop(initialjob)\n",
    "for i in range(1,machines+1):\n",
    "    fastjob = Sa[0]\n",
    "    mseq[i]['Sequence'].append(fastjob)\n",
    "    mseq[i]['TCT'] = time(mseq[i]['Sequence'])\n",
    "    Sa = Sa.drop(fastjob)\n",
    "for job in Sa:\n",
    "    maq = lowestTCT(machines)\n",
    "    lowestinsert = 999999\n",
    "    for item in maq:\n",
    "        prev = mseq[item]['Sequence'][len(mseq[item]['Sequence'])-1]\n",
    "        insertpoint = sij_df.loc[prev][job]\n",
    "        if insertpoint < lowestinsert:\n",
    "            lip = item\n",
    "            lowestinsert = insertpoint\n",
    "    mseq[lip]['Sequence'].append(job)\n",
    "    mseq[lip]['TCT'] = time(mseq[item]['Sequence'])\n",
    "    Sa = Sa.drop(job)\n",
    "total_TCT = 0\n",
    "for i in range(1,machines+1):\n",
    "    total_TCT += mseq[i]['TCT']\n",
    "total_TCT"
   ]
  },
  {
   "cell_type": "code",
   "execution_count": 8,
   "metadata": {},
   "outputs": [
    {
     "output_type": "execute_result",
     "data": {
      "text/plain": [
       "{1: {'TCT': 964, 'Sequence': [0, 9, 7, 12, 6]},\n",
       " 2: {'TCT': 1356, 'Sequence': [0, 14, 3, 10, 1]},\n",
       " 3: {'TCT': 1157, 'Sequence': [0, 2, 4, 11, 15]},\n",
       " 4: {'TCT': 921, 'Sequence': [0, 5, 13, 8]}}"
      ]
     },
     "metadata": {},
     "execution_count": 8
    }
   ],
   "source": [
    "mseq"
   ]
  },
  {
   "source": [
    "# Greedy"
   ],
   "cell_type": "markdown",
   "metadata": {}
  },
  {
   "cell_type": "code",
   "execution_count": 9,
   "metadata": {},
   "outputs": [
    {
     "output_type": "execute_result",
     "data": {
      "text/plain": [
       "3443"
      ]
     },
     "metadata": {},
     "execution_count": 9
    }
   ],
   "source": [
    "Sa = cij_df.index\n",
    "machines = 4\n",
    "mseq = {}\n",
    "for i in range(1,machines+1):\n",
    "    initialjob = Sa[0]\n",
    "    mseq[i] = {'TCT': 0, 'Sequence': [initialjob]}\n",
    "    mseq[i]['TCT'] = time(mseq[i]['Sequence'])\n",
    "Sa = cij_df.sort_values([0],axis=0).index\n",
    "Sa = Sa.drop(initialjob)\n",
    "for i in range(1,machines+1):\n",
    "    fastjob = Sa[0]\n",
    "    mseq[i]['Sequence'].append(fastjob)\n",
    "    mseq[i]['TCT'] = time(mseq[i]['Sequence'])\n",
    "    Sa = Sa.drop(fastjob)\n",
    "for job in Sa:\n",
    "    maq = lowestTCT(machines)\n",
    "    lowestinsert = 999999\n",
    "    for item in maq:\n",
    "        for k in range(1,len(mseq[item]['Sequence'])+1):\n",
    "            test = list(mseq[item]['Sequence'])\n",
    "            test.insert(k,job)\n",
    "            insertpoint = time(test)\n",
    "            if insertpoint < lowestinsert:\n",
    "                lip = item\n",
    "                lowestinsert = insertpoint\n",
    "                lowpoint = k\n",
    "    mseq[lip]['Sequence'].insert(lowpoint,job)\n",
    "    mseq[lip]['TCT'] = time(mseq[lip]['Sequence'])\n",
    "    Sa = Sa.drop(job)\n",
    "total_TCT = 0\n",
    "for i in range(1,machines+1):\n",
    "    total_TCT += mseq[i]['TCT']\n",
    "total_TCT"
   ]
  },
  {
   "cell_type": "code",
   "execution_count": 10,
   "metadata": {},
   "outputs": [
    {
     "output_type": "execute_result",
     "data": {
      "text/plain": [
       "{1: {'TCT': 932, 'Sequence': [0, 9, 12, 7, 6]},\n",
       " 2: {'TCT': 1053, 'Sequence': [0, 8, 14, 3, 1]},\n",
       " 3: {'TCT': 661, 'Sequence': [0, 15, 11, 4, 2]},\n",
       " 4: {'TCT': 797, 'Sequence': [0, 10, 13, 5]}}"
      ]
     },
     "metadata": {},
     "execution_count": 10
    }
   ],
   "source": [
    "mseq"
   ]
  },
  {
   "source": [
    "# Randomized Order"
   ],
   "cell_type": "markdown",
   "metadata": {}
  },
  {
   "cell_type": "code",
   "execution_count": 11,
   "metadata": {},
   "outputs": [
    {
     "output_type": "stream",
     "name": "stdout",
     "text": [
      "Run 0 3426\nRun 1 3468\nRun 2 3385\nRun 3 3009\nRun 4 2912\nRun 5 3264\nRun 6 3030\nRun 7 3133\nRun 8 3164\nRun 9 3381\n"
     ]
    }
   ],
   "source": [
    "ans = {}\n",
    "for count in range(10):\n",
    "    Sa = cij_df.index\n",
    "    machines = 4\n",
    "    mseq = {}\n",
    "    for i in range(1,machines+1):\n",
    "        initialjob = Sa[0]\n",
    "        mseq[i] = {'TCT': 0, 'Sequence': [initialjob]}\n",
    "        mseq[i]['TCT'] = time(mseq[i]['Sequence'])\n",
    "    Sa = cij_df.sort_values([0],axis=0).index\n",
    "    Sa = Sa.drop(initialjob)\n",
    "    for i in range(1,machines+1):\n",
    "        fastjob = Sa[0]\n",
    "        mseq[i]['Sequence'].append(fastjob)\n",
    "        mseq[i]['TCT'] = time(mseq[i]['Sequence'])\n",
    "        Sa = Sa.drop(fastjob)\n",
    "    Sa = list(Sa)\n",
    "    rndm.shuffle(Sa)\n",
    "    while Sa!=[]:\n",
    "        job = Sa[0]\n",
    "        maq = lowestTCT(machines)\n",
    "        lowestinsert = 999999\n",
    "        for item in maq:\n",
    "            for k in range(1,len(mseq[item]['Sequence'])+1):\n",
    "                test = list(mseq[item]['Sequence'])\n",
    "                test.insert(k,job)\n",
    "                insertpoint = time(test)\n",
    "                if insertpoint < lowestinsert:\n",
    "                    lip = item\n",
    "                    lowestinsert = insertpoint\n",
    "                    lowpoint = k\n",
    "        mseq[lip]['Sequence'].insert(lowpoint,job)\n",
    "        mseq[lip]['TCT'] = time(mseq[lip]['Sequence'])\n",
    "        del Sa[0]\n",
    "    total_TCT = 0\n",
    "    for i in range(1,machines+1):\n",
    "        total_TCT += mseq[i]['TCT']\n",
    "    ans[count] = {'Mseq': mseq, 'TCTTotal': total_TCT}\n",
    "    print('Run ' + str(count)+ ' ' + str(total_TCT))\n"
   ]
  }
 ]
}