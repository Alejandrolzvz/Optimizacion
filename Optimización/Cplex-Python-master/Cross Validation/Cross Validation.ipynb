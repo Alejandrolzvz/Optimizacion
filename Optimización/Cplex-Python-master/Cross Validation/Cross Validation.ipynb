{
 "cells": [
  {
   "cell_type": "markdown",
   "metadata": {},
   "source": [
    "![title](UCN ICI.png)\n",
    "\n",
    " #  <font color='#7E9BC0'> Machine Learning con Python </font>\n",
    "\n",
    "<div class=\"alert alert-info\"> </h4> **Material preparado para el Master en Ingeniería Civil Industrial | Universidad Católica del Norte | Campus Antofagasta | Curso Electivo - Predictive Analytics.**\n",
    "</h4> </div>\n",
    "\n",
    "# <font color='#2d89ef'> Cross Validation </font>\n",
    "\n",
    "\n",
    "\n",
    "###  <font color='#2d89ef'> Overfitting & Underfitting</font>\n",
    "\n",
    "En estadística y Machine Learning generalmente dividimos nuestros datos en dos subconjuntos: datos de entrenamiento y datos de prueba (y a veces en tres: entrenar, validar y probar), y ajustamos nuestro modelo en los datos del tren, para hacer predicciones sobre Los datos de prueba. Cuando hacemos eso, puede suceder una de las dos cosas: Overfitting nuestro modelo o Underfitting nuestro modelo. No queremos que suceda ninguna de estas cosas, ya que afectan la previsibilidad de nuestro modelo: podríamos estar usando un modelo que tenga una precisión más baja y / o no esté generalizado (lo que significa que no puede generalizar sus predicciones en otros datos). Veamos qué significa realmente Underfitting y Overfitting:\n",
    "\n",
    "**Overfitting**\n",
    "\n",
    "El overfitting significa que el modelo que entrenamos se ha entrenado \"demasiado bien\" y ahora se ajusta demasiado al conjunto de datos de entrenamiento. Esto suele suceder cuando el modelo es demasiado complejo (es decir, demasiadas características / variables en comparación con el número de observaciones). Este modelo será muy preciso en los datos de entrenamiento, pero probablemente no será muy preciso en los datos nuevos o no entrenados. Esto se debe a que este modelo no está generalizado (o no tan generalizado), lo que significa que puede generalizar los resultados y no hacer inferencias sobre otros datos, que es, en última instancia, lo que está tratando de hacer. Básicamente, cuando esto sucede, el modelo aprende o describe el \"ruido\" en los datos de entrenamiento en lugar de las relaciones reales entre las variables en los datos. Este ruido, obviamente, no forma parte de ningún conjunto de datos nuevo y no se puede aplicar a él.\n",
    "\n",
    "\n",
    "**Underfitting**\n",
    "\n",
    "En contraste con el overfitting, cuando un modelo está Underfitting, significa que el modelo no se ajusta a los datos de entrenamiento y, por lo tanto, pierde las tendencias en los datos. También significa que el modelo no puede generalizarse a nuevos datos. Como probablemente haya adivinado (¡o descubierto!), esto suele ser el resultado de un modelo muy simple (no hay suficientes predictores / variables independientes). También podría suceder cuando, por ejemplo, ajustamos un modelo lineal (como la regresión lineal) a datos que no son lineales. Casi no hace falta decir que este modelo tendrá poca capacidad de predicción (en los datos de entrenamiento y no se puede generalizar a otros datos).\n",
    "\n",
    "\n",
    "###  <font color='#2d89ef'> Cross Validation </font>\n",
    "\n",
    "**Cross Validation** es una técnica para evaluar modelos de ML mediante la capacitación de varios modelos de ML en subconjuntos de datos de entrada disponibles y evaluándolos en el subconjunto complementario de datos. Utilice la Cross Validation para detectar el Overfitting, es decir, no generalizar un patrón.\n",
    "\n",
    "<img src=\"CrossValidation.png\" width=\"800\" height=\"800\" />\n"
   ]
  },
  {
   "cell_type": "code",
   "execution_count": null,
   "metadata": {},
   "outputs": [],
   "source": []
  }
 ],
 "metadata": {
  "kernelspec": {
   "display_name": "Python 3",
   "language": "python",
   "name": "python3"
  },
  "language_info": {
   "codemirror_mode": {
    "name": "ipython",
    "version": 3
   },
   "file_extension": ".py",
   "mimetype": "text/x-python",
   "name": "python",
   "nbconvert_exporter": "python",
   "pygments_lexer": "ipython3",
   "version": "3.6.3"
  }
 },
 "nbformat": 4,
 "nbformat_minor": 2
}
