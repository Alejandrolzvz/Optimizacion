{
 "cells": [
  {
   "cell_type": "markdown",
   "metadata": {},
   "source": [
    "![title](UCN ICI.png)\n",
    "\n",
    " #  <font color='#7E9BC0'> Data Analysis con Python - Solución del Problema</font>\n",
    "\n",
    "<div class=\"alert alert-info\"> </h4> **Material preparado para el Master en Ingeniería Civil Industrial | Universidad Católica del Norte | Campus Antofagasta | Curso Electivo - Predictive Analytics.**\n",
    "</h4> </div>\n",
    "\n",
    "## <font color='#2d89ef'> Problema 1: </font>\n",
    "\n",
    "G&A produce y distribuye productos para el cuidado personal. Los productos se fabrican en 6 plantas diferentes y luego se envían a diferentes centros de distribución en todo el país. Los gerentes de algunos centros de distribución han estado informando la existencia de desabastecimientos en los últimos meses.\n",
    "\n",
    "Se le encargó analizar los datos disponibles de inventario para cada SKU en cada centro de distribución para cuantificar qué tan grande es el problema. Para realizar esta tarea, recibió dos archivos de Excel que contienen cuatro columnas que se describen a continuación:\n",
    "\n",
    "- date: fecha\n",
    "- dc: id del centro de distribución\n",
    "- sku: id del SKU\n",
    "- inventory: inventario on-hand (en cajas)\n",
    "\n",
    "\n",
    "Para completar su análisis, realice las siguientes tareas:\n",
    "\n",
    "\n",
    "1. Lea los 2 archivos de Excel (dc_inventory (1) .xlsx y dc_inventory (2) .xlsx)\n",
    "2. Concatene los 2 conjuntos de datos de inventario para crear un único conjunto de datos. El DataFrame resultante debe contener 118,650 filas.\n",
    "3. Ordene los valores por DC, SKU y Fecha en orden ascendente\n",
    "4. Identifique cuántos centros de distribución únicos se incluyen en el conjunto de datos\n",
    "5. Identifique cuántas SKU únicas se incluyen en el conjunto de datos\n",
    "6. Agregue una nueva columna llamada 'oos' para identificar las existencias agotadas. Si el inventario disponible> 0, entonces el valor de esta columna debe ser 0, de lo contrario 1. **Hint: use la función lambda**\n",
    "7. Cree un nuevo DataFrame que calcule el número de días con falta de existencias por DC y SKU. Las columnas de este nuevo DataFrame deben ser 'dc', 'sku' y 'oos_days'. El número de días con existencias agotadas (oos_days) debe ser la suma de 'oos' para cada SKU en ecah DC. **Hint: use groupby**\n",
    "8. En el nuevo DataFrame, elimine esas filas con 350 días de desabastecimiento\n",
    "9. Identifique el DC y SKU con el mayor número de días con desabastecimientos\n",
    "10. Guarde el DataFrame resultante como un archivo de Excel"
   ]
  },
  {
   "cell_type": "markdown",
   "metadata": {},
   "source": [
    "**Pregunta nº 1:**"
   ]
  },
  {
   "cell_type": "code",
   "execution_count": 1,
   "metadata": {},
   "outputs": [],
   "source": [
    "import pandas as pd\n",
    "import numpy as np"
   ]
  },
  {
   "cell_type": "code",
   "execution_count": 2,
   "metadata": {},
   "outputs": [
    {
     "data": {
      "text/plain": [
       "['dc_shipments.xlsx',\n",
       " 'dc_inventory 1.xlsx',\n",
       " 'dc_inventory 2.xlsx',\n",
       " 'UCN ICI.png',\n",
       " '.ipynb_checkpoints',\n",
       " 'Data Analytics - Problemas Propuestos.ipynb',\n",
       " 'Data Analytics - Solución Problemas Propuestos.ipynb']"
      ]
     },
     "execution_count": 2,
     "metadata": {},
     "output_type": "execute_result"
    }
   ],
   "source": [
    "from os import getcwd\n",
    "from os import listdir\n",
    "from pandas import read_excel\n",
    "\n",
    "path=getcwd()\n",
    "files = listdir(path)\n",
    "files"
   ]
  },
  {
   "cell_type": "code",
   "execution_count": 3,
   "metadata": {},
   "outputs": [
    {
     "data": {
      "text/plain": [
       "['dc_shipments.xlsx', 'dc_inventory 1.xlsx', 'dc_inventory 2.xlsx']"
      ]
     },
     "execution_count": 3,
     "metadata": {},
     "output_type": "execute_result"
    }
   ],
   "source": [
    "excel_files=[x for x in files if x.endswith(\".xlsx\") ]\n",
    "excel_files\n"
   ]
  },
  {
   "cell_type": "code",
   "execution_count": 4,
   "metadata": {},
   "outputs": [],
   "source": [
    "excel_file_1=excel_files[1]\n",
    "excel_file_2=excel_files[2]"
   ]
  },
  {
   "cell_type": "code",
   "execution_count": 5,
   "metadata": {},
   "outputs": [],
   "source": [
    "df_1=pd.read_excel(excel_file_1)\n",
    "df_2=pd.read_excel(excel_file_2)"
   ]
  },
  {
   "cell_type": "markdown",
   "metadata": {},
   "source": [
    "**Pregunta nº 2:**"
   ]
  },
  {
   "cell_type": "code",
   "execution_count": 6,
   "metadata": {},
   "outputs": [
    {
     "data": {
      "text/html": [
       "<div>\n",
       "<style>\n",
       "    .dataframe thead tr:only-child th {\n",
       "        text-align: right;\n",
       "    }\n",
       "\n",
       "    .dataframe thead th {\n",
       "        text-align: left;\n",
       "    }\n",
       "\n",
       "    .dataframe tbody tr th {\n",
       "        vertical-align: top;\n",
       "    }\n",
       "</style>\n",
       "<table border=\"1\" class=\"dataframe\">\n",
       "  <thead>\n",
       "    <tr style=\"text-align: right;\">\n",
       "      <th></th>\n",
       "      <th>date</th>\n",
       "      <th>dc</th>\n",
       "      <th>sku</th>\n",
       "      <th>inventory</th>\n",
       "    </tr>\n",
       "  </thead>\n",
       "  <tbody>\n",
       "    <tr>\n",
       "      <th>0</th>\n",
       "      <td>2016-07-01</td>\n",
       "      <td>220</td>\n",
       "      <td>1001</td>\n",
       "      <td>0</td>\n",
       "    </tr>\n",
       "    <tr>\n",
       "      <th>1</th>\n",
       "      <td>2016-07-02</td>\n",
       "      <td>220</td>\n",
       "      <td>1001</td>\n",
       "      <td>0</td>\n",
       "    </tr>\n",
       "    <tr>\n",
       "      <th>2</th>\n",
       "      <td>2016-07-18</td>\n",
       "      <td>540</td>\n",
       "      <td>1002</td>\n",
       "      <td>0</td>\n",
       "    </tr>\n",
       "    <tr>\n",
       "      <th>3</th>\n",
       "      <td>2016-07-17</td>\n",
       "      <td>540</td>\n",
       "      <td>1002</td>\n",
       "      <td>0</td>\n",
       "    </tr>\n",
       "    <tr>\n",
       "      <th>4</th>\n",
       "      <td>2016-07-19</td>\n",
       "      <td>540</td>\n",
       "      <td>1002</td>\n",
       "      <td>0</td>\n",
       "    </tr>\n",
       "  </tbody>\n",
       "</table>\n",
       "</div>"
      ],
      "text/plain": [
       "        date   dc   sku  inventory\n",
       "0 2016-07-01  220  1001          0\n",
       "1 2016-07-02  220  1001          0\n",
       "2 2016-07-18  540  1002          0\n",
       "3 2016-07-17  540  1002          0\n",
       "4 2016-07-19  540  1002          0"
      ]
     },
     "metadata": {},
     "output_type": "display_data"
    },
    {
     "data": {
      "text/plain": [
       "(118650, 4)"
      ]
     },
     "execution_count": 6,
     "metadata": {},
     "output_type": "execute_result"
    }
   ],
   "source": [
    "frames = [df_1, df_2]\n",
    "df=pd.concat(frames)\n",
    "display(df.head())\n",
    "df.shape"
   ]
  },
  {
   "cell_type": "markdown",
   "metadata": {},
   "source": [
    "**Pregunta nº 3:**"
   ]
  },
  {
   "cell_type": "code",
   "execution_count": 7,
   "metadata": {},
   "outputs": [
    {
     "data": {
      "text/html": [
       "<div>\n",
       "<style>\n",
       "    .dataframe thead tr:only-child th {\n",
       "        text-align: right;\n",
       "    }\n",
       "\n",
       "    .dataframe thead th {\n",
       "        text-align: left;\n",
       "    }\n",
       "\n",
       "    .dataframe tbody tr th {\n",
       "        vertical-align: top;\n",
       "    }\n",
       "</style>\n",
       "<table border=\"1\" class=\"dataframe\">\n",
       "  <thead>\n",
       "    <tr style=\"text-align: right;\">\n",
       "      <th></th>\n",
       "      <th>date</th>\n",
       "      <th>dc</th>\n",
       "      <th>sku</th>\n",
       "      <th>inventory</th>\n",
       "    </tr>\n",
       "  </thead>\n",
       "  <tbody>\n",
       "    <tr>\n",
       "      <th>8786</th>\n",
       "      <td>2016-07-01</td>\n",
       "      <td>100</td>\n",
       "      <td>1003</td>\n",
       "      <td>0</td>\n",
       "    </tr>\n",
       "    <tr>\n",
       "      <th>8787</th>\n",
       "      <td>2016-07-02</td>\n",
       "      <td>100</td>\n",
       "      <td>1003</td>\n",
       "      <td>0</td>\n",
       "    </tr>\n",
       "    <tr>\n",
       "      <th>40970</th>\n",
       "      <td>2016-07-03</td>\n",
       "      <td>100</td>\n",
       "      <td>1003</td>\n",
       "      <td>0</td>\n",
       "    </tr>\n",
       "    <tr>\n",
       "      <th>40969</th>\n",
       "      <td>2016-07-04</td>\n",
       "      <td>100</td>\n",
       "      <td>1003</td>\n",
       "      <td>0</td>\n",
       "    </tr>\n",
       "    <tr>\n",
       "      <th>40965</th>\n",
       "      <td>2016-07-05</td>\n",
       "      <td>100</td>\n",
       "      <td>1003</td>\n",
       "      <td>0</td>\n",
       "    </tr>\n",
       "  </tbody>\n",
       "</table>\n",
       "</div>"
      ],
      "text/plain": [
       "            date   dc   sku  inventory\n",
       "8786  2016-07-01  100  1003          0\n",
       "8787  2016-07-02  100  1003          0\n",
       "40970 2016-07-03  100  1003          0\n",
       "40969 2016-07-04  100  1003          0\n",
       "40965 2016-07-05  100  1003          0"
      ]
     },
     "execution_count": 7,
     "metadata": {},
     "output_type": "execute_result"
    }
   ],
   "source": [
    "result= df.sort_values(['dc', 'sku','date'], ascending=[1, 1,1])\n",
    "result.head()"
   ]
  },
  {
   "cell_type": "markdown",
   "metadata": {},
   "source": [
    "**Pregunta nº 4:**"
   ]
  },
  {
   "cell_type": "code",
   "execution_count": 8,
   "metadata": {},
   "outputs": [
    {
     "name": "stdout",
     "output_type": "stream",
     "text": [
      "Hay 45centros de distribución diferentes\n"
     ]
    },
    {
     "data": {
      "text/plain": [
       "dc\n",
       "100    1\n",
       "110    1\n",
       "120    1\n",
       "130    1\n",
       "140    1\n",
       "Name: dc, dtype: int64"
      ]
     },
     "execution_count": 8,
     "metadata": {},
     "output_type": "execute_result"
    }
   ],
   "source": [
    "df_1 = df.groupby('dc')['dc'].nunique()\n",
    "print('Hay '+str(len(df_1))+'centros de distribución diferentes')\n",
    "df_1.head()"
   ]
  },
  {
   "cell_type": "markdown",
   "metadata": {},
   "source": [
    "**Pegunta nº 5:**"
   ]
  },
  {
   "cell_type": "code",
   "execution_count": 9,
   "metadata": {},
   "outputs": [
    {
     "name": "stdout",
     "output_type": "stream",
     "text": [
      "Hay 121 SKU\n"
     ]
    },
    {
     "data": {
      "text/plain": [
       "sku\n",
       "1001    1\n",
       "1002    1\n",
       "1003    1\n",
       "1004    1\n",
       "1005    1\n",
       "Name: sku, dtype: int64"
      ]
     },
     "execution_count": 9,
     "metadata": {},
     "output_type": "execute_result"
    }
   ],
   "source": [
    "df_2 = df.groupby('sku')['sku'].nunique()\n",
    "print('Hay '+str(len(df_2))+' SKU')\n",
    "df_2.head()"
   ]
  },
  {
   "cell_type": "markdown",
   "metadata": {},
   "source": [
    "**Pregunta nº 6:**"
   ]
  },
  {
   "cell_type": "code",
   "execution_count": 10,
   "metadata": {},
   "outputs": [
    {
     "data": {
      "text/html": [
       "<div>\n",
       "<style>\n",
       "    .dataframe thead tr:only-child th {\n",
       "        text-align: right;\n",
       "    }\n",
       "\n",
       "    .dataframe thead th {\n",
       "        text-align: left;\n",
       "    }\n",
       "\n",
       "    .dataframe tbody tr th {\n",
       "        vertical-align: top;\n",
       "    }\n",
       "</style>\n",
       "<table border=\"1\" class=\"dataframe\">\n",
       "  <thead>\n",
       "    <tr style=\"text-align: right;\">\n",
       "      <th></th>\n",
       "      <th>date</th>\n",
       "      <th>dc</th>\n",
       "      <th>sku</th>\n",
       "      <th>inventory</th>\n",
       "      <th>oos</th>\n",
       "    </tr>\n",
       "  </thead>\n",
       "  <tbody>\n",
       "    <tr>\n",
       "      <th>0</th>\n",
       "      <td>2016-07-01</td>\n",
       "      <td>220</td>\n",
       "      <td>1001</td>\n",
       "      <td>0</td>\n",
       "      <td>1</td>\n",
       "    </tr>\n",
       "    <tr>\n",
       "      <th>1</th>\n",
       "      <td>2016-07-02</td>\n",
       "      <td>220</td>\n",
       "      <td>1001</td>\n",
       "      <td>0</td>\n",
       "      <td>1</td>\n",
       "    </tr>\n",
       "    <tr>\n",
       "      <th>2</th>\n",
       "      <td>2016-07-18</td>\n",
       "      <td>540</td>\n",
       "      <td>1002</td>\n",
       "      <td>0</td>\n",
       "      <td>1</td>\n",
       "    </tr>\n",
       "    <tr>\n",
       "      <th>3</th>\n",
       "      <td>2016-07-17</td>\n",
       "      <td>540</td>\n",
       "      <td>1002</td>\n",
       "      <td>0</td>\n",
       "      <td>1</td>\n",
       "    </tr>\n",
       "    <tr>\n",
       "      <th>4</th>\n",
       "      <td>2016-07-19</td>\n",
       "      <td>540</td>\n",
       "      <td>1002</td>\n",
       "      <td>0</td>\n",
       "      <td>1</td>\n",
       "    </tr>\n",
       "  </tbody>\n",
       "</table>\n",
       "</div>"
      ],
      "text/plain": [
       "        date   dc   sku  inventory  oos\n",
       "0 2016-07-01  220  1001          0    1\n",
       "1 2016-07-02  220  1001          0    1\n",
       "2 2016-07-18  540  1002          0    1\n",
       "3 2016-07-17  540  1002          0    1\n",
       "4 2016-07-19  540  1002          0    1"
      ]
     },
     "metadata": {},
     "output_type": "display_data"
    },
    {
     "data": {
      "text/plain": [
       "(118650, 5)"
      ]
     },
     "execution_count": 10,
     "metadata": {},
     "output_type": "execute_result"
    }
   ],
   "source": [
    "df['oos']=df.apply(lambda row: 0 if row['inventory']>0 else 1,axis=1)\n",
    "display(df.head())\n",
    "df.shape"
   ]
  },
  {
   "cell_type": "markdown",
   "metadata": {},
   "source": [
    "**Pregunta nº 7:**"
   ]
  },
  {
   "cell_type": "code",
   "execution_count": 11,
   "metadata": {},
   "outputs": [
    {
     "data": {
      "text/html": [
       "<div>\n",
       "<style>\n",
       "    .dataframe thead tr:only-child th {\n",
       "        text-align: right;\n",
       "    }\n",
       "\n",
       "    .dataframe thead th {\n",
       "        text-align: left;\n",
       "    }\n",
       "\n",
       "    .dataframe tbody tr th {\n",
       "        vertical-align: top;\n",
       "    }\n",
       "</style>\n",
       "<table border=\"1\" class=\"dataframe\">\n",
       "  <thead>\n",
       "    <tr style=\"text-align: right;\">\n",
       "      <th></th>\n",
       "      <th>sku</th>\n",
       "      <th>dc</th>\n",
       "      <th>oos_days</th>\n",
       "    </tr>\n",
       "  </thead>\n",
       "  <tbody>\n",
       "    <tr>\n",
       "      <th>0</th>\n",
       "      <td>1001</td>\n",
       "      <td>220</td>\n",
       "      <td>350</td>\n",
       "    </tr>\n",
       "    <tr>\n",
       "      <th>1</th>\n",
       "      <td>1001</td>\n",
       "      <td>330</td>\n",
       "      <td>350</td>\n",
       "    </tr>\n",
       "    <tr>\n",
       "      <th>2</th>\n",
       "      <td>1001</td>\n",
       "      <td>380</td>\n",
       "      <td>350</td>\n",
       "    </tr>\n",
       "    <tr>\n",
       "      <th>3</th>\n",
       "      <td>1002</td>\n",
       "      <td>260</td>\n",
       "      <td>246</td>\n",
       "    </tr>\n",
       "    <tr>\n",
       "      <th>4</th>\n",
       "      <td>1002</td>\n",
       "      <td>540</td>\n",
       "      <td>350</td>\n",
       "    </tr>\n",
       "  </tbody>\n",
       "</table>\n",
       "</div>"
      ],
      "text/plain": [
       "    sku   dc  oos_days\n",
       "0  1001  220       350\n",
       "1  1001  330       350\n",
       "2  1001  380       350\n",
       "3  1002  260       246\n",
       "4  1002  540       350"
      ]
     },
     "execution_count": 11,
     "metadata": {},
     "output_type": "execute_result"
    }
   ],
   "source": [
    "DataFrame=df['oos'].groupby([df['sku'],df['dc']]).sum().reset_index(name='oos_days')\n",
    "DataFrame.head()"
   ]
  },
  {
   "cell_type": "markdown",
   "metadata": {},
   "source": [
    "**Pregunta nº 8:**"
   ]
  },
  {
   "cell_type": "code",
   "execution_count": 12,
   "metadata": {},
   "outputs": [
    {
     "data": {
      "text/html": [
       "<div>\n",
       "<style>\n",
       "    .dataframe thead tr:only-child th {\n",
       "        text-align: right;\n",
       "    }\n",
       "\n",
       "    .dataframe thead th {\n",
       "        text-align: left;\n",
       "    }\n",
       "\n",
       "    .dataframe tbody tr th {\n",
       "        vertical-align: top;\n",
       "    }\n",
       "</style>\n",
       "<table border=\"1\" class=\"dataframe\">\n",
       "  <thead>\n",
       "    <tr style=\"text-align: right;\">\n",
       "      <th></th>\n",
       "      <th>sku</th>\n",
       "      <th>dc</th>\n",
       "      <th>oos_days</th>\n",
       "    </tr>\n",
       "  </thead>\n",
       "  <tbody>\n",
       "    <tr>\n",
       "      <th>3</th>\n",
       "      <td>1002</td>\n",
       "      <td>260</td>\n",
       "      <td>246</td>\n",
       "    </tr>\n",
       "    <tr>\n",
       "      <th>6</th>\n",
       "      <td>1003</td>\n",
       "      <td>240</td>\n",
       "      <td>8</td>\n",
       "    </tr>\n",
       "    <tr>\n",
       "      <th>7</th>\n",
       "      <td>1003</td>\n",
       "      <td>280</td>\n",
       "      <td>6</td>\n",
       "    </tr>\n",
       "    <tr>\n",
       "      <th>8</th>\n",
       "      <td>1003</td>\n",
       "      <td>360</td>\n",
       "      <td>10</td>\n",
       "    </tr>\n",
       "    <tr>\n",
       "      <th>9</th>\n",
       "      <td>1003</td>\n",
       "      <td>400</td>\n",
       "      <td>3</td>\n",
       "    </tr>\n",
       "  </tbody>\n",
       "</table>\n",
       "</div>"
      ],
      "text/plain": [
       "    sku   dc  oos_days\n",
       "3  1002  260       246\n",
       "6  1003  240         8\n",
       "7  1003  280         6\n",
       "8  1003  360        10\n",
       "9  1003  400         3"
      ]
     },
     "execution_count": 12,
     "metadata": {},
     "output_type": "execute_result"
    }
   ],
   "source": [
    "indexValue = DataFrame[ DataFrame['oos_days'] == 350 ].index\n",
    "DataFrame.drop(indexValue , inplace=True)\n",
    "DataFrame.head()"
   ]
  },
  {
   "cell_type": "markdown",
   "metadata": {},
   "source": [
    "**Pregunta nº 9:**"
   ]
  },
  {
   "cell_type": "code",
   "execution_count": 13,
   "metadata": {},
   "outputs": [
    {
     "name": "stdout",
     "output_type": "stream",
     "text": [
      "El SKU con más dias con stock out es el 330 ubicado en el DC 220\n"
     ]
    }
   ],
   "source": [
    "x=DataFrame['oos_days'].idxmax()\n",
    "print('El SKU con más dias con stock out es el '+str(DataFrame.iloc[x][2])+ ' ubicado en el DC '+ str(DataFrame.iloc[x][1]))"
   ]
  },
  {
   "cell_type": "markdown",
   "metadata": {},
   "source": [
    "**Pregunta nº 10:**"
   ]
  },
  {
   "cell_type": "code",
   "execution_count": 14,
   "metadata": {},
   "outputs": [],
   "source": [
    "DataFrame.to_excel('Resulting.xlsx')"
   ]
  },
  {
   "cell_type": "markdown",
   "metadata": {},
   "source": [
    " \n",
    " "
   ]
  },
  {
   "cell_type": "markdown",
   "metadata": {},
   "source": [
    "## <font color='#2d89ef'> Problema 2: </font>\n",
    "\n",
    "G&A sospecha que las existencias perdidas causan desabastecimientos. Para probar esta hipótesis, se le encargó analizar los datos de envío durante el período de 1 año. Le entregaron un archivo Excel que contiene la información detallada a continuación:\n",
    "\n",
    "- date: fecha\n",
    "- plant: Nombre de la planta de Origen\n",
    "- dc: ID del Centro de Distribución de destino\n",
    "- sku: ID del SKU \n",
    "- ordered: numero of caja ordenada\n",
    "- delivered: numero de cajas entregadas\n",
    "\n",
    "\n",
    "Para completar su análisis, realice las siguientes tareas:\n",
    "\n",
    "\n",
    "\n",
    "1. Lea el archivo de Excel que contiene datos de envío de plantas a DC (dc_shipments.xlsx)\n",
    "2. Ordene los valores por DC, SKU, Planta y Fecha en orden ascendente\n",
    "3. Cree una nueva columna (perdida) para calcular el número de cajas perdidos (ordenados - entregados)\n",
    "4. Cree un nuevo DataFrame que calcule el número de cajas perdidas por Plant. **Hint: use groupby**\n",
    "5. Identifique las 3 plantas principales con el mayor número de cajas perdidas\n",
    "6. Cree un nuevo DataFrame que calcule el número de cajas perdidas por DC. **Hint: use groupby**\n",
    "7. Identifique los 5 principales DC con el mayor número de cajas perdidas.\n",
    "8. Cree un nuevo DataFrame que calcule el número de cajas perdidas por SKU. **Hint: use groupby**\n",
    "9. Identifique los 5 SKU principales con el mayor número de cajas perdidas."
   ]
  },
  {
   "cell_type": "markdown",
   "metadata": {},
   "source": [
    "**Pregunta nº 1:**"
   ]
  },
  {
   "cell_type": "code",
   "execution_count": 15,
   "metadata": {},
   "outputs": [
    {
     "data": {
      "text/html": [
       "<div>\n",
       "<style>\n",
       "    .dataframe thead tr:only-child th {\n",
       "        text-align: right;\n",
       "    }\n",
       "\n",
       "    .dataframe thead th {\n",
       "        text-align: left;\n",
       "    }\n",
       "\n",
       "    .dataframe tbody tr th {\n",
       "        vertical-align: top;\n",
       "    }\n",
       "</style>\n",
       "<table border=\"1\" class=\"dataframe\">\n",
       "  <thead>\n",
       "    <tr style=\"text-align: right;\">\n",
       "      <th></th>\n",
       "      <th>date</th>\n",
       "      <th>plant</th>\n",
       "      <th>dc</th>\n",
       "      <th>sku</th>\n",
       "      <th>ordered</th>\n",
       "      <th>delivered</th>\n",
       "    </tr>\n",
       "  </thead>\n",
       "  <tbody>\n",
       "    <tr>\n",
       "      <th>0</th>\n",
       "      <td>2016-10-02</td>\n",
       "      <td>West</td>\n",
       "      <td>400</td>\n",
       "      <td>1080</td>\n",
       "      <td>88.0</td>\n",
       "      <td>88</td>\n",
       "    </tr>\n",
       "    <tr>\n",
       "      <th>1</th>\n",
       "      <td>2016-11-07</td>\n",
       "      <td>West</td>\n",
       "      <td>280</td>\n",
       "      <td>1003</td>\n",
       "      <td>36.0</td>\n",
       "      <td>36</td>\n",
       "    </tr>\n",
       "    <tr>\n",
       "      <th>2</th>\n",
       "      <td>2016-07-02</td>\n",
       "      <td>South west</td>\n",
       "      <td>300</td>\n",
       "      <td>1085</td>\n",
       "      <td>48.0</td>\n",
       "      <td>48</td>\n",
       "    </tr>\n",
       "    <tr>\n",
       "      <th>3</th>\n",
       "      <td>2016-09-22</td>\n",
       "      <td>Midwest</td>\n",
       "      <td>320</td>\n",
       "      <td>1013</td>\n",
       "      <td>3.0</td>\n",
       "      <td>3</td>\n",
       "    </tr>\n",
       "    <tr>\n",
       "      <th>4</th>\n",
       "      <td>2016-09-07</td>\n",
       "      <td>South west</td>\n",
       "      <td>270</td>\n",
       "      <td>1086</td>\n",
       "      <td>10.0</td>\n",
       "      <td>10</td>\n",
       "    </tr>\n",
       "  </tbody>\n",
       "</table>\n",
       "</div>"
      ],
      "text/plain": [
       "        date       plant   dc   sku  ordered  delivered\n",
       "0 2016-10-02        West  400  1080     88.0         88\n",
       "1 2016-11-07        West  280  1003     36.0         36\n",
       "2 2016-07-02  South west  300  1085     48.0         48\n",
       "3 2016-09-22     Midwest  320  1013      3.0          3\n",
       "4 2016-09-07  South west  270  1086     10.0         10"
      ]
     },
     "execution_count": 15,
     "metadata": {},
     "output_type": "execute_result"
    }
   ],
   "source": [
    "dataframe=pd.read_excel(excel_files[0])\n",
    "dataframe.head()"
   ]
  },
  {
   "cell_type": "markdown",
   "metadata": {},
   "source": [
    "**Pregunta nº 2:**"
   ]
  },
  {
   "cell_type": "code",
   "execution_count": 16,
   "metadata": {},
   "outputs": [
    {
     "data": {
      "text/html": [
       "<div>\n",
       "<style>\n",
       "    .dataframe thead tr:only-child th {\n",
       "        text-align: right;\n",
       "    }\n",
       "\n",
       "    .dataframe thead th {\n",
       "        text-align: left;\n",
       "    }\n",
       "\n",
       "    .dataframe tbody tr th {\n",
       "        vertical-align: top;\n",
       "    }\n",
       "</style>\n",
       "<table border=\"1\" class=\"dataframe\">\n",
       "  <thead>\n",
       "    <tr style=\"text-align: right;\">\n",
       "      <th></th>\n",
       "      <th>date</th>\n",
       "      <th>plant</th>\n",
       "      <th>dc</th>\n",
       "      <th>sku</th>\n",
       "      <th>ordered</th>\n",
       "      <th>delivered</th>\n",
       "    </tr>\n",
       "  </thead>\n",
       "  <tbody>\n",
       "    <tr>\n",
       "      <th>51</th>\n",
       "      <td>2016-08-20</td>\n",
       "      <td>South east</td>\n",
       "      <td>130</td>\n",
       "      <td>1006</td>\n",
       "      <td>92.0</td>\n",
       "      <td>92</td>\n",
       "    </tr>\n",
       "    <tr>\n",
       "      <th>79</th>\n",
       "      <td>2017-04-04</td>\n",
       "      <td>South east</td>\n",
       "      <td>130</td>\n",
       "      <td>1006</td>\n",
       "      <td>115.0</td>\n",
       "      <td>115</td>\n",
       "    </tr>\n",
       "    <tr>\n",
       "      <th>286</th>\n",
       "      <td>2016-07-30</td>\n",
       "      <td>South east</td>\n",
       "      <td>130</td>\n",
       "      <td>1006</td>\n",
       "      <td>20.0</td>\n",
       "      <td>20</td>\n",
       "    </tr>\n",
       "    <tr>\n",
       "      <th>482</th>\n",
       "      <td>2017-03-15</td>\n",
       "      <td>South east</td>\n",
       "      <td>130</td>\n",
       "      <td>1006</td>\n",
       "      <td>115.0</td>\n",
       "      <td>115</td>\n",
       "    </tr>\n",
       "    <tr>\n",
       "      <th>1277</th>\n",
       "      <td>2016-08-05</td>\n",
       "      <td>South east</td>\n",
       "      <td>130</td>\n",
       "      <td>1006</td>\n",
       "      <td>20.0</td>\n",
       "      <td>20</td>\n",
       "    </tr>\n",
       "  </tbody>\n",
       "</table>\n",
       "</div>"
      ],
      "text/plain": [
       "           date       plant   dc   sku  ordered  delivered\n",
       "51   2016-08-20  South east  130  1006     92.0         92\n",
       "79   2017-04-04  South east  130  1006    115.0        115\n",
       "286  2016-07-30  South east  130  1006     20.0         20\n",
       "482  2017-03-15  South east  130  1006    115.0        115\n",
       "1277 2016-08-05  South east  130  1006     20.0         20"
      ]
     },
     "execution_count": 16,
     "metadata": {},
     "output_type": "execute_result"
    }
   ],
   "source": [
    "dataframe= dataframe.sort_values(['dc', 'sku','plant'], ascending=[1, 1,1])\n",
    "dataframe.head()"
   ]
  },
  {
   "cell_type": "markdown",
   "metadata": {},
   "source": [
    "**Pregunta nº 3:**"
   ]
  },
  {
   "cell_type": "code",
   "execution_count": 17,
   "metadata": {},
   "outputs": [
    {
     "data": {
      "text/html": [
       "<div>\n",
       "<style>\n",
       "    .dataframe thead tr:only-child th {\n",
       "        text-align: right;\n",
       "    }\n",
       "\n",
       "    .dataframe thead th {\n",
       "        text-align: left;\n",
       "    }\n",
       "\n",
       "    .dataframe tbody tr th {\n",
       "        vertical-align: top;\n",
       "    }\n",
       "</style>\n",
       "<table border=\"1\" class=\"dataframe\">\n",
       "  <thead>\n",
       "    <tr style=\"text-align: right;\">\n",
       "      <th></th>\n",
       "      <th>date</th>\n",
       "      <th>plant</th>\n",
       "      <th>dc</th>\n",
       "      <th>sku</th>\n",
       "      <th>ordered</th>\n",
       "      <th>delivered</th>\n",
       "      <th>missed</th>\n",
       "    </tr>\n",
       "  </thead>\n",
       "  <tbody>\n",
       "    <tr>\n",
       "      <th>51</th>\n",
       "      <td>2016-08-20</td>\n",
       "      <td>South east</td>\n",
       "      <td>130</td>\n",
       "      <td>1006</td>\n",
       "      <td>92.0</td>\n",
       "      <td>92</td>\n",
       "      <td>0.0</td>\n",
       "    </tr>\n",
       "    <tr>\n",
       "      <th>79</th>\n",
       "      <td>2017-04-04</td>\n",
       "      <td>South east</td>\n",
       "      <td>130</td>\n",
       "      <td>1006</td>\n",
       "      <td>115.0</td>\n",
       "      <td>115</td>\n",
       "      <td>0.0</td>\n",
       "    </tr>\n",
       "    <tr>\n",
       "      <th>286</th>\n",
       "      <td>2016-07-30</td>\n",
       "      <td>South east</td>\n",
       "      <td>130</td>\n",
       "      <td>1006</td>\n",
       "      <td>20.0</td>\n",
       "      <td>20</td>\n",
       "      <td>0.0</td>\n",
       "    </tr>\n",
       "    <tr>\n",
       "      <th>482</th>\n",
       "      <td>2017-03-15</td>\n",
       "      <td>South east</td>\n",
       "      <td>130</td>\n",
       "      <td>1006</td>\n",
       "      <td>115.0</td>\n",
       "      <td>115</td>\n",
       "      <td>0.0</td>\n",
       "    </tr>\n",
       "    <tr>\n",
       "      <th>1277</th>\n",
       "      <td>2016-08-05</td>\n",
       "      <td>South east</td>\n",
       "      <td>130</td>\n",
       "      <td>1006</td>\n",
       "      <td>20.0</td>\n",
       "      <td>20</td>\n",
       "      <td>0.0</td>\n",
       "    </tr>\n",
       "  </tbody>\n",
       "</table>\n",
       "</div>"
      ],
      "text/plain": [
       "           date       plant   dc   sku  ordered  delivered  missed\n",
       "51   2016-08-20  South east  130  1006     92.0         92     0.0\n",
       "79   2017-04-04  South east  130  1006    115.0        115     0.0\n",
       "286  2016-07-30  South east  130  1006     20.0         20     0.0\n",
       "482  2017-03-15  South east  130  1006    115.0        115     0.0\n",
       "1277 2016-08-05  South east  130  1006     20.0         20     0.0"
      ]
     },
     "execution_count": 17,
     "metadata": {},
     "output_type": "execute_result"
    }
   ],
   "source": [
    "dataframe['missed']=dataframe['ordered']-dataframe['delivered']\n",
    "dataframe.head()"
   ]
  },
  {
   "cell_type": "markdown",
   "metadata": {},
   "source": [
    "**Pregunta nº 4:**"
   ]
  },
  {
   "cell_type": "code",
   "execution_count": 18,
   "metadata": {},
   "outputs": [
    {
     "data": {
      "text/html": [
       "<div>\n",
       "<style>\n",
       "    .dataframe thead tr:only-child th {\n",
       "        text-align: right;\n",
       "    }\n",
       "\n",
       "    .dataframe thead th {\n",
       "        text-align: left;\n",
       "    }\n",
       "\n",
       "    .dataframe tbody tr th {\n",
       "        vertical-align: top;\n",
       "    }\n",
       "</style>\n",
       "<table border=\"1\" class=\"dataframe\">\n",
       "  <thead>\n",
       "    <tr style=\"text-align: right;\">\n",
       "      <th></th>\n",
       "      <th>dc</th>\n",
       "      <th>sku</th>\n",
       "      <th>ordered</th>\n",
       "      <th>delivered</th>\n",
       "      <th>missed</th>\n",
       "    </tr>\n",
       "    <tr>\n",
       "      <th>plant</th>\n",
       "      <th></th>\n",
       "      <th></th>\n",
       "      <th></th>\n",
       "      <th></th>\n",
       "      <th></th>\n",
       "    </tr>\n",
       "  </thead>\n",
       "  <tbody>\n",
       "    <tr>\n",
       "      <th>Mid-atlantic</th>\n",
       "      <td>951850</td>\n",
       "      <td>2857763</td>\n",
       "      <td>54628.0</td>\n",
       "      <td>54350</td>\n",
       "      <td>278.0</td>\n",
       "    </tr>\n",
       "    <tr>\n",
       "      <th>Midwest</th>\n",
       "      <td>1100230</td>\n",
       "      <td>3488458</td>\n",
       "      <td>107739.0</td>\n",
       "      <td>107001</td>\n",
       "      <td>738.0</td>\n",
       "    </tr>\n",
       "    <tr>\n",
       "      <th>New England</th>\n",
       "      <td>1190490</td>\n",
       "      <td>4211361</td>\n",
       "      <td>94890.0</td>\n",
       "      <td>93999</td>\n",
       "      <td>891.0</td>\n",
       "    </tr>\n",
       "    <tr>\n",
       "      <th>South east</th>\n",
       "      <td>1442120</td>\n",
       "      <td>4402765</td>\n",
       "      <td>109338.0</td>\n",
       "      <td>107481</td>\n",
       "      <td>1857.0</td>\n",
       "    </tr>\n",
       "    <tr>\n",
       "      <th>South west</th>\n",
       "      <td>818470</td>\n",
       "      <td>2619942</td>\n",
       "      <td>84765.0</td>\n",
       "      <td>82842</td>\n",
       "      <td>1923.0</td>\n",
       "    </tr>\n",
       "    <tr>\n",
       "      <th>West</th>\n",
       "      <td>1908220</td>\n",
       "      <td>5596980</td>\n",
       "      <td>124365.0</td>\n",
       "      <td>122289</td>\n",
       "      <td>2076.0</td>\n",
       "    </tr>\n",
       "  </tbody>\n",
       "</table>\n",
       "</div>"
      ],
      "text/plain": [
       "                   dc      sku   ordered  delivered  missed\n",
       "plant                                                      \n",
       "Mid-atlantic   951850  2857763   54628.0      54350   278.0\n",
       "Midwest       1100230  3488458  107739.0     107001   738.0\n",
       "New England   1190490  4211361   94890.0      93999   891.0\n",
       "South east    1442120  4402765  109338.0     107481  1857.0\n",
       "South west     818470  2619942   84765.0      82842  1923.0\n",
       "West          1908220  5596980  124365.0     122289  2076.0"
      ]
     },
     "execution_count": 18,
     "metadata": {},
     "output_type": "execute_result"
    }
   ],
   "source": [
    "NewDataFrame=dataframe.groupby(['plant']).sum()\n",
    "NewDataFrame"
   ]
  },
  {
   "cell_type": "markdown",
   "metadata": {},
   "source": [
    "**Pregunta nº 5:**"
   ]
  },
  {
   "cell_type": "code",
   "execution_count": 19,
   "metadata": {},
   "outputs": [
    {
     "name": "stdout",
     "output_type": "stream",
     "text": [
      "**********\n",
      "Planta : West\n",
      "**********\n",
      "dc           1908220.0\n",
      "sku          5596980.0\n",
      "ordered       124365.0\n",
      "delivered     122289.0\n",
      "missed          2076.0\n",
      "Name: West, dtype: float64\n",
      "-------------------------------\n",
      "**********\n",
      "Planta : South west\n",
      "**********\n",
      "dc            818470.0\n",
      "sku          2619942.0\n",
      "ordered        84765.0\n",
      "delivered      82842.0\n",
      "missed          1923.0\n",
      "Name: South west, dtype: float64\n",
      "-------------------------------\n",
      "**********\n",
      "Planta : South east\n",
      "**********\n",
      "dc           1442120.0\n",
      "sku          4402765.0\n",
      "ordered       109338.0\n",
      "delivered     107481.0\n",
      "missed          1857.0\n",
      "Name: South east, dtype: float64\n",
      "-------------------------------\n"
     ]
    }
   ],
   "source": [
    "NewDataFrame= NewDataFrame.sort_values(['missed'], ascending=0)\n",
    "for n in range(3):\n",
    "    print('**********')\n",
    "    print('Planta : '+str(NewDataFrame.index.values[n]))\n",
    "    print('**********')\n",
    "    print(NewDataFrame.iloc[n])\n",
    "    print('-------------------------------')"
   ]
  },
  {
   "cell_type": "markdown",
   "metadata": {},
   "source": [
    "**Pregunta nº 6:**"
   ]
  },
  {
   "cell_type": "code",
   "execution_count": 20,
   "metadata": {},
   "outputs": [
    {
     "data": {
      "text/html": [
       "<div>\n",
       "<style>\n",
       "    .dataframe thead tr:only-child th {\n",
       "        text-align: right;\n",
       "    }\n",
       "\n",
       "    .dataframe thead th {\n",
       "        text-align: left;\n",
       "    }\n",
       "\n",
       "    .dataframe tbody tr th {\n",
       "        vertical-align: top;\n",
       "    }\n",
       "</style>\n",
       "<table border=\"1\" class=\"dataframe\">\n",
       "  <thead>\n",
       "    <tr style=\"text-align: right;\">\n",
       "      <th></th>\n",
       "      <th>sku</th>\n",
       "      <th>ordered</th>\n",
       "      <th>delivered</th>\n",
       "      <th>missed</th>\n",
       "    </tr>\n",
       "    <tr>\n",
       "      <th>dc</th>\n",
       "      <th></th>\n",
       "      <th></th>\n",
       "      <th></th>\n",
       "      <th></th>\n",
       "    </tr>\n",
       "  </thead>\n",
       "  <tbody>\n",
       "    <tr>\n",
       "      <th>450</th>\n",
       "      <td>379921</td>\n",
       "      <td>19311.0</td>\n",
       "      <td>18702</td>\n",
       "      <td>609.0</td>\n",
       "    </tr>\n",
       "    <tr>\n",
       "      <th>150</th>\n",
       "      <td>290074</td>\n",
       "      <td>15284.0</td>\n",
       "      <td>14676</td>\n",
       "      <td>608.0</td>\n",
       "    </tr>\n",
       "    <tr>\n",
       "      <th>480</th>\n",
       "      <td>668278</td>\n",
       "      <td>25569.0</td>\n",
       "      <td>24980</td>\n",
       "      <td>589.0</td>\n",
       "    </tr>\n",
       "    <tr>\n",
       "      <th>270</th>\n",
       "      <td>773739</td>\n",
       "      <td>31575.0</td>\n",
       "      <td>31032</td>\n",
       "      <td>543.0</td>\n",
       "    </tr>\n",
       "    <tr>\n",
       "      <th>300</th>\n",
       "      <td>818752</td>\n",
       "      <td>22836.0</td>\n",
       "      <td>22311</td>\n",
       "      <td>525.0</td>\n",
       "    </tr>\n",
       "  </tbody>\n",
       "</table>\n",
       "</div>"
      ],
      "text/plain": [
       "        sku  ordered  delivered  missed\n",
       "dc                                     \n",
       "450  379921  19311.0      18702   609.0\n",
       "150  290074  15284.0      14676   608.0\n",
       "480  668278  25569.0      24980   589.0\n",
       "270  773739  31575.0      31032   543.0\n",
       "300  818752  22836.0      22311   525.0"
      ]
     },
     "execution_count": 20,
     "metadata": {},
     "output_type": "execute_result"
    }
   ],
   "source": [
    "NewDataFrame=dataframe.groupby(['dc']).sum()\n",
    "NewDataFrame= NewDataFrame.sort_values(['missed'], ascending=0)\n",
    "NewDataFrame.head(5)"
   ]
  },
  {
   "cell_type": "markdown",
   "metadata": {},
   "source": [
    "**Pregunta nº 7:**"
   ]
  },
  {
   "cell_type": "code",
   "execution_count": 21,
   "metadata": {},
   "outputs": [
    {
     "name": "stdout",
     "output_type": "stream",
     "text": [
      "**********\n",
      "DC Nº 450\n",
      "**********\n",
      "El número de cajas perdidad por el DC es: 609.0\n",
      "\n",
      "-------------------------------\n",
      "**********\n",
      "DC Nº 150\n",
      "**********\n",
      "El número de cajas perdidad por el DC es: 608.0\n",
      "\n",
      "-------------------------------\n",
      "**********\n",
      "DC Nº 480\n",
      "**********\n",
      "El número de cajas perdidad por el DC es: 589.0\n",
      "\n",
      "-------------------------------\n",
      "**********\n",
      "DC Nº 270\n",
      "**********\n",
      "El número de cajas perdidad por el DC es: 543.0\n",
      "\n",
      "-------------------------------\n",
      "**********\n",
      "DC Nº 300\n",
      "**********\n",
      "El número de cajas perdidad por el DC es: 525.0\n",
      "\n",
      "-------------------------------\n"
     ]
    }
   ],
   "source": [
    "NewDataFrame= NewDataFrame.sort_values('missed',ascending=0)\n",
    "for n in range(5):\n",
    "    print('**********')\n",
    "    print('DC Nº '+str(NewDataFrame.index.values[n]))\n",
    "    print('**********')\n",
    "    print('El número de cajas perdidad por el DC es: '+str(NewDataFrame.iloc[n][3]))\n",
    "    print(\"\")\n",
    "    print('-------------------------------')"
   ]
  },
  {
   "cell_type": "markdown",
   "metadata": {},
   "source": [
    "**Pregunta nº 8:**"
   ]
  },
  {
   "cell_type": "code",
   "execution_count": 22,
   "metadata": {},
   "outputs": [
    {
     "data": {
      "text/html": [
       "<div>\n",
       "<style>\n",
       "    .dataframe thead tr:only-child th {\n",
       "        text-align: right;\n",
       "    }\n",
       "\n",
       "    .dataframe thead th {\n",
       "        text-align: left;\n",
       "    }\n",
       "\n",
       "    .dataframe tbody tr th {\n",
       "        vertical-align: top;\n",
       "    }\n",
       "</style>\n",
       "<table border=\"1\" class=\"dataframe\">\n",
       "  <thead>\n",
       "    <tr style=\"text-align: right;\">\n",
       "      <th></th>\n",
       "      <th>dc</th>\n",
       "      <th>ordered</th>\n",
       "      <th>delivered</th>\n",
       "      <th>missed</th>\n",
       "    </tr>\n",
       "    <tr>\n",
       "      <th>sku</th>\n",
       "      <th></th>\n",
       "      <th></th>\n",
       "      <th></th>\n",
       "      <th></th>\n",
       "    </tr>\n",
       "  </thead>\n",
       "  <tbody>\n",
       "    <tr>\n",
       "      <th>1001</th>\n",
       "      <td>123810</td>\n",
       "      <td>6825.0</td>\n",
       "      <td>6752</td>\n",
       "      <td>73.0</td>\n",
       "    </tr>\n",
       "    <tr>\n",
       "      <th>1002</th>\n",
       "      <td>33420</td>\n",
       "      <td>2670.0</td>\n",
       "      <td>2594</td>\n",
       "      <td>76.0</td>\n",
       "    </tr>\n",
       "    <tr>\n",
       "      <th>1003</th>\n",
       "      <td>119400</td>\n",
       "      <td>11907.0</td>\n",
       "      <td>11789</td>\n",
       "      <td>118.0</td>\n",
       "    </tr>\n",
       "    <tr>\n",
       "      <th>1004</th>\n",
       "      <td>86440</td>\n",
       "      <td>21550.0</td>\n",
       "      <td>21024</td>\n",
       "      <td>526.0</td>\n",
       "    </tr>\n",
       "    <tr>\n",
       "      <th>1005</th>\n",
       "      <td>570</td>\n",
       "      <td>9.0</td>\n",
       "      <td>9</td>\n",
       "      <td>0.0</td>\n",
       "    </tr>\n",
       "  </tbody>\n",
       "</table>\n",
       "</div>"
      ],
      "text/plain": [
       "          dc  ordered  delivered  missed\n",
       "sku                                     \n",
       "1001  123810   6825.0       6752    73.0\n",
       "1002   33420   2670.0       2594    76.0\n",
       "1003  119400  11907.0      11789   118.0\n",
       "1004   86440  21550.0      21024   526.0\n",
       "1005     570      9.0          9     0.0"
      ]
     },
     "execution_count": 22,
     "metadata": {},
     "output_type": "execute_result"
    }
   ],
   "source": [
    "NewDataFrame=dataframe.groupby(['sku']).sum()\n",
    "NewDataFrame.head()"
   ]
  },
  {
   "cell_type": "markdown",
   "metadata": {},
   "source": [
    "**Pregunta nº 9:**"
   ]
  },
  {
   "cell_type": "code",
   "execution_count": 23,
   "metadata": {},
   "outputs": [
    {
     "name": "stdout",
     "output_type": "stream",
     "text": [
      "**********\n",
      "SKU Nº 1004\n",
      "**********\n",
      "El número de cajas perdidas por SKU es: 526.0\n",
      "\n",
      "-------------------------------\n",
      "**********\n",
      "SKU Nº 1052\n",
      "**********\n",
      "El número de cajas perdidas por SKU es: 479.0\n",
      "\n",
      "-------------------------------\n",
      "**********\n",
      "SKU Nº 1064\n",
      "**********\n",
      "El número de cajas perdidas por SKU es: 473.0\n",
      "\n",
      "-------------------------------\n",
      "**********\n",
      "SKU Nº 1077\n",
      "**********\n",
      "El número de cajas perdidas por SKU es: 470.0\n",
      "\n",
      "-------------------------------\n",
      "**********\n",
      "SKU Nº 1086\n",
      "**********\n",
      "El número de cajas perdidas por SKU es: 384.0\n",
      "\n",
      "-------------------------------\n"
     ]
    }
   ],
   "source": [
    "NewDataFrame= NewDataFrame.sort_values('missed',ascending=0)\n",
    "for n in range(5):\n",
    "    print('**********')\n",
    "    print('SKU Nº '+str(NewDataFrame.index.values[n]))\n",
    "    print('**********')\n",
    "    print('El número de cajas perdidas por SKU es: '+str(NewDataFrame.iloc[n][3]))\n",
    "    print(\"\")\n",
    "    print('-------------------------------')"
   ]
  },
  {
   "cell_type": "code",
   "execution_count": null,
   "metadata": {},
   "outputs": [],
   "source": []
  }
 ],
 "metadata": {
  "kernelspec": {
   "display_name": "Python 3",
   "language": "python",
   "name": "python3"
  },
  "language_info": {
   "codemirror_mode": {
    "name": "ipython",
    "version": 3
   },
   "file_extension": ".py",
   "mimetype": "text/x-python",
   "name": "python",
   "nbconvert_exporter": "python",
   "pygments_lexer": "ipython3",
   "version": "3.6.3"
  }
 },
 "nbformat": 4,
 "nbformat_minor": 2
}
