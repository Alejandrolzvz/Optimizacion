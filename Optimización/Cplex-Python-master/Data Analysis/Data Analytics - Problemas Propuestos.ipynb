{
 "cells": [
  {
   "cell_type": "markdown",
   "metadata": {},
   "source": [
    "![title](UCN ICI.png)\n",
    "\n",
    " #  <font color='#7E9BC0'> Data Analysis con Python </font>\n",
    "\n",
    "<div class=\"alert alert-info\"> </h4> **Material preparado para el Master en Ingeniería Civil Industrial | Universidad Católica del Norte | Campus Antofagasta | Curso Electivo - Predictive Analytics.**\n",
    "</h4> </div>\n",
    "\n",
    "## <font color='#2d89ef'> Problema 1: </font>\n",
    "\n",
    "G&A produce y distribuye productos para el cuidado personal. Los productos se fabrican en 6 plantas diferentes y luego se envían a diferentes centros de distribución en todo el país. Los gerentes de algunos centros de distribución han estado informando la existencia de desabastecimientos en los últimos meses.\n",
    "\n",
    "Se le encargó analizar los datos disponibles de inventario para cada SKU en cada centro de distribución para cuantificar qué tan grande es el problema. Para realizar esta tarea, recibió dos archivos de Excel que contienen cuatro columnas que se describen a continuación:\n",
    "\n",
    "- date: fecha\n",
    "- dc: id del centro de distribución\n",
    "- sku: id del SKU\n",
    "- inventory: inventario on-hand (en cajas)\n",
    "\n",
    "\n",
    "Para completar su análisis, realice las siguientes tareas:\n",
    "\n",
    "\n",
    "1. Lea los 2 archivos de Excel (dc_inventory (1) .xlsx y dc_inventory (2) .xlsx)\n",
    "2. Concatene los 2 conjuntos de datos de inventario para crear un único conjunto de datos. El DataFrame resultante debe contener 118,650 filas.\n",
    "3. Ordene los valores por DC, SKU y Fecha en orden ascendente\n",
    "4. Identifique cuántos centros de distribución únicos se incluyen en el conjunto de datos\n",
    "5. Identifique cuántas SKU únicas se incluyen en el conjunto de datos\n",
    "6. Agregue una nueva columna llamada 'oos' para identificar las existencias agotadas. Si el inventario disponible> 0, entonces el valor de esta columna debe ser 0, de lo contrario 1. **Hint: use la función lambda**\n",
    "7. Cree un nuevo DataFrame que calcule el número de días con falta de existencias por DC y SKU. Las columnas de este nuevo DataFrame deben ser 'dc', 'sku' y 'oos_days'. El número de días con existencias agotadas (oos_days) debe ser la suma de 'oos' para cada SKU en ecah DC. **Hint: use groupby**\n",
    "8. En el nuevo DataFrame, elimine esas filas con 350 días de desabastecimiento\n",
    "9. Identifique el DC y SKU con el mayor número de días con desabastecimientos\n",
    "10. Guarde el DataFrame resultante como un archivo de Excel"
   ]
  },
  {
   "cell_type": "markdown",
   "metadata": {},
   "source": [
    "**Pregunta nº 1:**"
   ]
  },
  {
   "cell_type": "code",
   "execution_count": null,
   "metadata": {},
   "outputs": [],
   "source": []
  },
  {
   "cell_type": "markdown",
   "metadata": {},
   "source": [
    "**Pregunta nº 2:**"
   ]
  },
  {
   "cell_type": "code",
   "execution_count": null,
   "metadata": {},
   "outputs": [],
   "source": []
  },
  {
   "cell_type": "markdown",
   "metadata": {},
   "source": [
    "**Pregunta nº 3:**"
   ]
  },
  {
   "cell_type": "code",
   "execution_count": null,
   "metadata": {},
   "outputs": [],
   "source": []
  },
  {
   "cell_type": "markdown",
   "metadata": {},
   "source": [
    "**Pregunta nº 4:**"
   ]
  },
  {
   "cell_type": "code",
   "execution_count": null,
   "metadata": {},
   "outputs": [],
   "source": []
  },
  {
   "cell_type": "markdown",
   "metadata": {},
   "source": [
    "**Pegunta nº 5:**"
   ]
  },
  {
   "cell_type": "code",
   "execution_count": null,
   "metadata": {},
   "outputs": [],
   "source": []
  },
  {
   "cell_type": "markdown",
   "metadata": {},
   "source": [
    "**Pregunta nº 6:**"
   ]
  },
  {
   "cell_type": "code",
   "execution_count": null,
   "metadata": {},
   "outputs": [],
   "source": []
  },
  {
   "cell_type": "markdown",
   "metadata": {},
   "source": [
    "**Pregunta nº 7:**"
   ]
  },
  {
   "cell_type": "code",
   "execution_count": null,
   "metadata": {},
   "outputs": [],
   "source": []
  },
  {
   "cell_type": "markdown",
   "metadata": {},
   "source": [
    "**Pregunta nº 8:**"
   ]
  },
  {
   "cell_type": "code",
   "execution_count": null,
   "metadata": {},
   "outputs": [],
   "source": []
  },
  {
   "cell_type": "markdown",
   "metadata": {},
   "source": [
    "**Pregunta nº 9:**"
   ]
  },
  {
   "cell_type": "code",
   "execution_count": null,
   "metadata": {},
   "outputs": [],
   "source": []
  },
  {
   "cell_type": "markdown",
   "metadata": {},
   "source": [
    "**Pregunta nº 10:**"
   ]
  },
  {
   "cell_type": "markdown",
   "metadata": {},
   "source": [
    " \n",
    " "
   ]
  },
  {
   "cell_type": "markdown",
   "metadata": {},
   "source": [
    "## <font color='#2d89ef'> Problema 2: </font>\n",
    "\n",
    "G&A sospecha que las existencias perdidas causan desabastecimientos. Para probar esta hipótesis, se le encargó analizar los datos de envío durante el período de 1 año. Le entregaron un archivo Excel que contiene la información detallada a continuación:\n",
    "\n",
    "- date: fecha\n",
    "- plant: Nombre de la planta de Origen\n",
    "- dc: ID del Centro de Distribución de destino\n",
    "- sku: ID del SKU \n",
    "- ordered: numero of caja ordenada\n",
    "- delivered: numero de cajas entregadas\n",
    "\n",
    "\n",
    "Para completar su análisis, realice las siguientes tareas:\n",
    "\n",
    "\n",
    "\n",
    "1. Lea el archivo de Excel que contiene datos de envío de plantas a DC (dc_shipments.xlsx)\n",
    "2. Ordene los valores por DC, SKU, Planta y Fecha en orden ascendente\n",
    "3. Cree una nueva columna (perdida) para calcular el número de cajas perdidos (ordenados - entregados)\n",
    "4. Cree un nuevo DataFrame que calcule el número de cajas perdidas por Plant. **Hint: use groupby**\n",
    "5. Identifique las 3 plantas principales con el mayor número de cajas perdidas\n",
    "6. Cree un nuevo DataFrame que calcule el número de cajas perdidas por DC. **Hint: use groupby**\n",
    "7. Identifique los 5 principales DC con el mayor número de cajas perdidas.\n",
    "8. Cree un nuevo DataFrame que calcule el número de cajas perdidas por SKU. **Hint: use groupby**\n",
    "9. Identifique los 5 SKU principales con el mayor número de cajas perdidas."
   ]
  },
  {
   "cell_type": "markdown",
   "metadata": {},
   "source": [
    "**Pregunta nº 1:**"
   ]
  },
  {
   "cell_type": "code",
   "execution_count": null,
   "metadata": {},
   "outputs": [],
   "source": []
  },
  {
   "cell_type": "markdown",
   "metadata": {},
   "source": [
    "**Pregunta nº 2:**"
   ]
  },
  {
   "cell_type": "code",
   "execution_count": null,
   "metadata": {},
   "outputs": [],
   "source": []
  },
  {
   "cell_type": "markdown",
   "metadata": {},
   "source": [
    "**Pregunta nº 3:**"
   ]
  },
  {
   "cell_type": "code",
   "execution_count": null,
   "metadata": {},
   "outputs": [],
   "source": []
  },
  {
   "cell_type": "markdown",
   "metadata": {},
   "source": [
    "**Pregunta nº 4:**"
   ]
  },
  {
   "cell_type": "code",
   "execution_count": null,
   "metadata": {},
   "outputs": [],
   "source": []
  },
  {
   "cell_type": "markdown",
   "metadata": {},
   "source": [
    "**Pregunta nº 5:**"
   ]
  },
  {
   "cell_type": "code",
   "execution_count": null,
   "metadata": {},
   "outputs": [],
   "source": []
  },
  {
   "cell_type": "markdown",
   "metadata": {},
   "source": [
    "**Pregunta nº 6:**"
   ]
  },
  {
   "cell_type": "code",
   "execution_count": null,
   "metadata": {},
   "outputs": [],
   "source": []
  },
  {
   "cell_type": "markdown",
   "metadata": {},
   "source": [
    "**Pregunta nº 7:**"
   ]
  },
  {
   "cell_type": "code",
   "execution_count": null,
   "metadata": {},
   "outputs": [],
   "source": []
  },
  {
   "cell_type": "markdown",
   "metadata": {},
   "source": [
    "**Pregunta nº 8:**"
   ]
  },
  {
   "cell_type": "code",
   "execution_count": null,
   "metadata": {},
   "outputs": [],
   "source": []
  },
  {
   "cell_type": "markdown",
   "metadata": {},
   "source": [
    "**Pregunta nº 9:**"
   ]
  },
  {
   "cell_type": "code",
   "execution_count": null,
   "metadata": {},
   "outputs": [],
   "source": []
  }
 ],
 "metadata": {
  "kernelspec": {
   "display_name": "Python 3",
   "language": "python",
   "name": "python3"
  },
  "language_info": {
   "codemirror_mode": {
    "name": "ipython",
    "version": 3
   },
   "file_extension": ".py",
   "mimetype": "text/x-python",
   "name": "python",
   "nbconvert_exporter": "python",
   "pygments_lexer": "ipython3",
   "version": "3.6.3"
  }
 },
 "nbformat": 4,
 "nbformat_minor": 2
}
