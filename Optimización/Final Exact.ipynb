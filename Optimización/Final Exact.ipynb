{
 "cells": [
  {
   "cell_type": "code",
   "execution_count": 1,
   "metadata": {},
   "outputs": [],
   "source": [
    "import pandas as pd\n",
    "from docplex.mp.model import Model\n",
    "mdl=Model('SMP')\n",
    "df = pd.read_excel('Tabla Instancia.xlsx',sheet_name='Cij', index_col='Cij')\n"
   ]
  },
  {
   "cell_type": "code",
   "execution_count": 2,
   "metadata": {},
   "outputs": [],
   "source": [
    "def time(seq):\n",
    "    timecheck = 0\n",
    "    timer = 0\n",
    "    for i in range(len(seq)):\n",
    "        if i == 0:\n",
    "            timecheck = 0\n",
    "        else:\n",
    "            timer += df.iloc[seq[i-1],seq[i]]\n",
    "            timecheck += df.iloc[seq[i-1],seq[i]]+timer\n",
    "    return timecheck-timer"
   ]
  },
  {
   "cell_type": "code",
   "execution_count": 3,
   "metadata": {},
   "outputs": [
    {
     "name": "stdout",
     "output_type": "stream",
     "text": [
      "15\n",
      "4\n",
      "12\n"
     ]
    }
   ],
   "source": [
    "#machines\n",
    "n = len(df)-1\n",
    "m = 4\n",
    "N = n - m + 1\n",
    "print(n)\n",
    "print(m)\n",
    "print(N)"
   ]
  },
  {
   "cell_type": "code",
   "execution_count": 4,
   "metadata": {
    "collapsed": true,
    "jupyter": {
     "outputs_hidden": true
    },
    "tags": []
   },
   "outputs": [],
   "source": [
    "arcos =[(i,j,k) for i in range (0, n+1) for j in range (0,n+1) if i!=j  for k in range (0, N+2)]\n",
    "x=mdl.binary_var_dict(arcos,name='x')"
   ]
  },
  {
   "cell_type": "markdown",
   "metadata": {},
   "source": [
    "### Objective function\n",
    "\n",
    "# $Min \\; Z= \\; \\displaystyle\\sum_{j=1}^{n}C_{0j}\\sum_{k=1}^{N} Ky^{k}_{0j}+\\sum_{i=1}^{n}\\sum_{j=1, j\\neq i}^{n}C_{ij}\\sum_{k=1}^{N} Ky^{k}_{ij}$"
   ]
  },
  {
   "cell_type": "code",
   "execution_count": 5,
   "metadata": {},
   "outputs": [],
   "source": [
    "mdl.minimize(mdl.sum(df.iloc[0][j] * mdl.sum(k * x[0,j,k] for k in range(1,N+1)) for j in range(1,n+1)) + mdl.sum(df.iloc[i][j] *mdl.sum(k * x[i,j,k] for k in range(1,N)) for j in range(1,n+1) for i in range(1,n+1) if j!=i))"
   ]
  },
  {
   "cell_type": "code",
   "execution_count": null,
   "metadata": {},
   "outputs": [],
   "source": []
  },
  {
   "cell_type": "markdown",
   "metadata": {},
   "source": [
    "# $\\displaystyle\\sum_{k=1}^{N} y^{k}_{0j}+\\sum_{k=1}^{N-1}\\sum_{i=1, i\\neq j}^{n} y^{k}_{ij} = 1$     $\\; \\; (\\forall \\;j \\; \\in \\; I)$\n",
    "\n",
    "# $\\displaystyle\\sum_{j=1}^{n} y^{1}_{0j}+\\sum_{i=1}^{n}\\sum_{j=1, j\\neq i}^{n} y^{1}_{ij} = m$     $\\; \\; $\n",
    "\n",
    "# $\\displaystyle\\sum_{k=1}^{N} \\sum_{j=1}^{n} y^{k}_{0j}=m $\n",
    "\n",
    "# $\\displaystyle y^{k+1}_{0j} +  \\sum_{i=1, i\\neq j}^{n} y^{k+1}_{ij} = \\sum_{i=1, i\\neq j}^{n} y^{k}_{ji} $     $\\; \\; (\\forall \\;j \\; \\in \\; I ; k=1,2,...,N-2)$\n",
    "\n",
    "# $\\displaystyle y^{N}_{0j} = \\sum_{i=1, i\\neq j}^{n} y^{N-1}_{ji} $     $\\; \\; (\\forall \\;j \\; \\in \\; I)$"
   ]
  },
  {
   "cell_type": "code",
   "execution_count": 6,
   "metadata": {
    "jupyter": {
     "source_hidden": true
    }
   },
   "outputs": [],
   "source": [
    "# Restricciones:\n",
    "\n",
    "#1\n",
    "for j in range(1,n+1):\n",
    "    mdl.add_constraint((mdl.sum(x[0,j,k] for k in range(1,N+1))+mdl.sum(x[i, j, k] for k in range(1,N) for i in range(1,n+1) if i!=j)) ==1)\n",
    "                      \n",
    "#2\n",
    "    mdl.add_constraint((mdl.sum(x[0,j,1] for j in range(1,n+1)) + mdl.sum(x[i,j,1] for j in range(1,n+1) for i in range(1,n+1) if j!=i)) == m)\n",
    "                        \n",
    "#3\n",
    "    mdl.add_constraint((mdl.sum(x[0,j,k] for k in range(1,N+1) for j in range(1,n+1))) == m)\n",
    "#4\n",
    "for k in range(1,N-1):\n",
    "    for j in range(1,n+1):\n",
    "        mdl.add_constraint((x[0,j,k+1] + mdl.sum(x[i,j,k+1] for i in range(1,n+1) if i!=j)) == mdl.sum(x[j,i,k] for i in range(1,n+1) if i!=j))\n",
    "#5    \n",
    "for j in range(1,n+1):\n",
    "    mdl.add_constraint((x[0,j,N]) == mdl.sum(x[j,i,N-1] for i in range(1,n+1) if i!=j))"
   ]
  },
  {
   "cell_type": "code",
   "execution_count": 7,
   "metadata": {},
   "outputs": [
    {
     "name": "stdout",
     "output_type": "stream",
     "text": [
      "Version identifier: 12.10.0.0 | 2019-11-26 | 843d4de2ae\n",
      "CPXPARAM_Read_DataCheck                          1\n",
      "CPXPARAM_RandomSeed                              201903125\n",
      "Tried aggregator 1 time.\n",
      "MIP Presolve eliminated 28 rows and 870 columns.\n",
      "Reduced MIP has 182 rows, 2490 columns, and 7470 nonzeros.\n",
      "Reduced MIP has 2490 binaries, 0 generals, 0 SOSs, and 0 indicators.\n",
      "Presolve time = 0.02 sec. (5.55 ticks)\n",
      "Tried aggregator 1 time.\n",
      "Detecting symmetries...\n",
      "Reduced MIP has 182 rows, 2490 columns, and 7470 nonzeros.\n",
      "Reduced MIP has 2490 binaries, 0 generals, 0 SOSs, and 0 indicators.\n",
      "Presolve time = 0.02 sec. (4.60 ticks)\n",
      "Probing time = 0.00 sec. (4.79 ticks)\n",
      "Clique table members: 5122.\n",
      "MIP emphasis: balance optimality and feasibility.\n",
      "MIP search method: dynamic search.\n",
      "Parallel mode: deterministic, using up to 12 threads.\n",
      "Root relaxation solution time = 0.02 sec. (8.77 ticks)\n",
      "\n",
      "        Nodes                                         Cuts/\n",
      "   Node  Left     Objective  IInf  Best Integer    Best Bound    ItCnt     Gap\n",
      "\n",
      "*     0+    0                         9067.0000        0.0000           100.00%\n",
      "*     0+    0                         5738.0000        0.0000           100.00%\n",
      "      0     0     2515.5000    32     5738.0000     2515.5000      231   56.16%\n",
      "      0     0     2532.5000    32     5738.0000      Cuts: 15      258   55.86%\n",
      "*     0+    0                         2539.0000     2532.5000             0.26%\n",
      "      0     0        cutoff           2539.0000     2539.0000      274    0.00%\n",
      "Elapsed time = 0.31 sec. (115.64 ticks, tree = 0.01 MB, solutions = 3)\n",
      "\n",
      "Cover cuts applied:  3\n",
      "Zero-half cuts applied:  6\n",
      "Gomory fractional cuts applied:  4\n",
      "\n",
      "Root node processing (before b&c):\n",
      "  Real time             =    0.33 sec. (115.78 ticks)\n",
      "Parallel b&c, 12 threads:\n",
      "  Real time             =    0.00 sec. (0.00 ticks)\n",
      "  Sync time (average)   =    0.00 sec.\n",
      "  Wait time (average)   =    0.00 sec.\n",
      "                          ------------\n",
      "Total (root+branch&cut) =    0.33 sec. (115.78 ticks)\n"
     ]
    }
   ],
   "source": [
    "#mdl.parameters.timelimit=120\n",
    "#mdl.parameters.mip.strategy.branch=1\n",
    "#mdl.parameters.mip.tolerances.mipgap=0.15\n",
    "\n",
    "solucion = mdl.solve(log_output=True)\n"
   ]
  },
  {
   "cell_type": "code",
   "execution_count": 8,
   "metadata": {},
   "outputs": [
    {
     "data": {
      "text/plain": [
       "<JobSolveStatus.OPTIMAL_SOLUTION: 2>"
      ]
     },
     "execution_count": 8,
     "metadata": {},
     "output_type": "execute_result"
    }
   ],
   "source": [
    "mdl.get_solve_status()"
   ]
  },
  {
   "cell_type": "code",
   "execution_count": 9,
   "metadata": {},
   "outputs": [
    {
     "name": "stdout",
     "output_type": "stream",
     "text": [
      "solution for: SMP\n",
      "objective: 2539\n",
      "x_0_4_3 = 1\n",
      "x_0_9_4 = 1\n",
      "x_0_11_3 = 1\n",
      "x_0_15_5 = 1\n",
      "x_1_6_1 = 1\n",
      "x_2_1_2 = 1\n",
      "x_4_7_2 = 1\n",
      "x_5_3_1 = 1\n",
      "x_7_13_1 = 1\n",
      "x_8_10_1 = 1\n",
      "x_9_12_3 = 1\n",
      "x_11_5_2 = 1\n",
      "x_12_8_2 = 1\n",
      "x_14_2_3 = 1\n",
      "x_15_14_4 = 1\n"
     ]
    }
   ],
   "source": [
    "solucion.display()"
   ]
  },
  {
   "cell_type": "code",
   "execution_count": 10,
   "metadata": {},
   "outputs": [
    {
     "name": "stdout",
     "output_type": "stream",
     "text": [
      "[(0, 4, 3), (0, 9, 4), (0, 11, 3), (0, 15, 5), (1, 6, 1), (2, 1, 2), (4, 7, 2), (5, 3, 1), (7, 13, 1), (8, 10, 1), (9, 12, 3), (11, 5, 2), (12, 8, 2), (14, 2, 3), (15, 14, 4)]\n"
     ]
    }
   ],
   "source": [
    "arcos_activos = [arco for arco in arcos if x[arco].solution_value>0.9]\n",
    "print(arcos_activos)"
   ]
  },
  {
   "cell_type": "code",
   "execution_count": 11,
   "metadata": {},
   "outputs": [
    {
     "data": {
      "text/html": [
       "<div>\n",
       "<style scoped>\n",
       "    .dataframe tbody tr th:only-of-type {\n",
       "        vertical-align: middle;\n",
       "    }\n",
       "\n",
       "    .dataframe tbody tr th {\n",
       "        vertical-align: top;\n",
       "    }\n",
       "\n",
       "    .dataframe thead th {\n",
       "        text-align: right;\n",
       "    }\n",
       "</style>\n",
       "<table border=\"1\" class=\"dataframe\">\n",
       "  <thead>\n",
       "    <tr style=\"text-align: right;\">\n",
       "      <th></th>\n",
       "      <th>0</th>\n",
       "      <th>1</th>\n",
       "      <th>2</th>\n",
       "    </tr>\n",
       "  </thead>\n",
       "  <tbody>\n",
       "    <tr>\n",
       "      <th>0</th>\n",
       "      <td>0</td>\n",
       "      <td>4</td>\n",
       "      <td>3</td>\n",
       "    </tr>\n",
       "    <tr>\n",
       "      <th>1</th>\n",
       "      <td>0</td>\n",
       "      <td>9</td>\n",
       "      <td>4</td>\n",
       "    </tr>\n",
       "    <tr>\n",
       "      <th>2</th>\n",
       "      <td>0</td>\n",
       "      <td>11</td>\n",
       "      <td>3</td>\n",
       "    </tr>\n",
       "    <tr>\n",
       "      <th>3</th>\n",
       "      <td>0</td>\n",
       "      <td>15</td>\n",
       "      <td>5</td>\n",
       "    </tr>\n",
       "    <tr>\n",
       "      <th>4</th>\n",
       "      <td>1</td>\n",
       "      <td>6</td>\n",
       "      <td>1</td>\n",
       "    </tr>\n",
       "    <tr>\n",
       "      <th>5</th>\n",
       "      <td>2</td>\n",
       "      <td>1</td>\n",
       "      <td>2</td>\n",
       "    </tr>\n",
       "    <tr>\n",
       "      <th>6</th>\n",
       "      <td>4</td>\n",
       "      <td>7</td>\n",
       "      <td>2</td>\n",
       "    </tr>\n",
       "    <tr>\n",
       "      <th>7</th>\n",
       "      <td>5</td>\n",
       "      <td>3</td>\n",
       "      <td>1</td>\n",
       "    </tr>\n",
       "    <tr>\n",
       "      <th>8</th>\n",
       "      <td>7</td>\n",
       "      <td>13</td>\n",
       "      <td>1</td>\n",
       "    </tr>\n",
       "    <tr>\n",
       "      <th>9</th>\n",
       "      <td>8</td>\n",
       "      <td>10</td>\n",
       "      <td>1</td>\n",
       "    </tr>\n",
       "    <tr>\n",
       "      <th>10</th>\n",
       "      <td>9</td>\n",
       "      <td>12</td>\n",
       "      <td>3</td>\n",
       "    </tr>\n",
       "    <tr>\n",
       "      <th>11</th>\n",
       "      <td>11</td>\n",
       "      <td>5</td>\n",
       "      <td>2</td>\n",
       "    </tr>\n",
       "    <tr>\n",
       "      <th>12</th>\n",
       "      <td>12</td>\n",
       "      <td>8</td>\n",
       "      <td>2</td>\n",
       "    </tr>\n",
       "    <tr>\n",
       "      <th>13</th>\n",
       "      <td>14</td>\n",
       "      <td>2</td>\n",
       "      <td>3</td>\n",
       "    </tr>\n",
       "    <tr>\n",
       "      <th>14</th>\n",
       "      <td>15</td>\n",
       "      <td>14</td>\n",
       "      <td>4</td>\n",
       "    </tr>\n",
       "  </tbody>\n",
       "</table>\n",
       "</div>"
      ],
      "text/plain": [
       "     0   1  2\n",
       "0    0   4  3\n",
       "1    0   9  4\n",
       "2    0  11  3\n",
       "3    0  15  5\n",
       "4    1   6  1\n",
       "5    2   1  2\n",
       "6    4   7  2\n",
       "7    5   3  1\n",
       "8    7  13  1\n",
       "9    8  10  1\n",
       "10   9  12  3\n",
       "11  11   5  2\n",
       "12  12   8  2\n",
       "13  14   2  3\n",
       "14  15  14  4"
      ]
     },
     "execution_count": 11,
     "metadata": {},
     "output_type": "execute_result"
    }
   ],
   "source": [
    "pd.DataFrame(arcos_activos)"
   ]
  },
  {
   "cell_type": "code",
   "execution_count": 12,
   "metadata": {},
   "outputs": [],
   "source": [
    "mseq = {}\n",
    "mseq[1] = {'TCT': 0 , 'Sequence': [0,4,7,13]}\n",
    "mseq[2] = {'TCT': 0 , 'Sequence': [0,9,12,8,10]}\n",
    "mseq[3] = {'TCT': 0 , 'Sequence': [0,11,5,3]}\n",
    "mseq[4] = {'TCT': 0 , 'Sequence': [0,15,14,2,1,6]}"
   ]
  },
  {
   "cell_type": "code",
   "execution_count": 13,
   "metadata": {},
   "outputs": [
    {
     "data": {
      "text/plain": [
       "{1: {'TCT': 517, 'Sequence': [0, 4, 7, 13]},\n",
       " 2: {'TCT': 636, 'Sequence': [0, 9, 12, 8, 10]},\n",
       " 3: {'TCT': 647, 'Sequence': [0, 11, 5, 3]},\n",
       " 4: {'TCT': 739, 'Sequence': [0, 15, 14, 2, 1, 6]}}"
      ]
     },
     "execution_count": 13,
     "metadata": {},
     "output_type": "execute_result"
    }
   ],
   "source": [
    "total = 0\n",
    "for i in range(1, m+1):\n",
    "    mseq[i]['TCT'] = time(mseq[i]['Sequence'])\n",
    "    total += mseq[i]['TCT']\n",
    "mseq"
   ]
  },
  {
   "cell_type": "code",
   "execution_count": 14,
   "metadata": {},
   "outputs": [
    {
     "data": {
      "text/plain": [
       "2539"
      ]
     },
     "execution_count": 14,
     "metadata": {},
     "output_type": "execute_result"
    }
   ],
   "source": [
    "total"
   ]
  }
 ],
 "metadata": {
  "kernelspec": {
   "display_name": "Python 3",
   "language": "python",
   "name": "python3"
  },
  "language_info": {
   "codemirror_mode": {
    "name": "ipython",
    "version": 3
   },
   "file_extension": ".py",
   "mimetype": "text/x-python",
   "name": "python",
   "nbconvert_exporter": "python",
   "pygments_lexer": "ipython3",
   "version": "3.7.6"
  }
 },
 "nbformat": 4,
 "nbformat_minor": 4
}
