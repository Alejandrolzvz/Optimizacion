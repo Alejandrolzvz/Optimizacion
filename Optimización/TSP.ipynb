{
 "cells": [
  {
   "cell_type": "code",
   "execution_count": 1,
   "metadata": {},
   "outputs": [],
   "source": [
    "#Comenzaremos importanto las librerias necesarias.\n",
    "import numpy as np\n",
    "import matplotlib.pyplot as plt\n",
    "from docplex.mp.model import Model\n",
    "import docplex.mp.solution as Solucion"
   ]
  },
  {
   "cell_type": "code",
   "execution_count": 2,
   "metadata": {},
   "outputs": [],
   "source": [
    "#Estamos trabajando con datos ficticios, por lo cual se creará un set de ciudades y arcos.\n",
    "# Los ciclos for están dentro de [ ], para crear listas con esa cantidad de datos.\n",
    "n=11\n",
    "ciudades=[i for i in range(n)] # Creamos ciudades de la 0 a la 9  \n",
    "arcos =[(i,j) for i in ciudades for j in ciudades if i!=j]"
   ]
  },
  {
   "cell_type": "code",
   "execution_count": 3,
   "metadata": {},
   "outputs": [
    {
     "name": "stdout",
     "output_type": "stream",
     "text": [
      " Cordenadas de X para todas las ciudades\n",
      "[4.17022005e+01 7.20324493e+01 1.14374817e-02 3.02332573e+01\n",
      " 1.46755891e+01 9.23385948e+00 1.86260211e+01 3.45560727e+01\n",
      " 3.96767474e+01 5.38816734e+01 4.19194514e+01]\n",
      "---------------------------------------------------------------------\n",
      " Cordenadas de y para todas las ciudades\n",
      "[68.52195004 20.44522497 87.81174364  2.73875932 67.04675102 41.73048024\n",
      " 55.86898284 14.03869386 19.81014891 80.07445687 96.82615757]\n"
     ]
    }
   ],
   "source": [
    "#Ahora crearemos las cordenadas para cada ciudad.\n",
    "random=np.random\n",
    "random.seed(1)\n",
    "coord_x=random.rand(n)*100\n",
    "coord_y=random.rand(n)*100\n",
    "print(\" Cordenadas de X para todas las ciudades\")\n",
    "print(coord_x)\n",
    "print(\"---------------------------------------------------------------------\")\n",
    "print(\" Cordenadas de y para todas las ciudades\")\n",
    "print(coord_y)"
   ]
  },
  {
   "cell_type": "code",
   "execution_count": 4,
   "metadata": {},
   "outputs": [
    {
     "data": {
      "image/png": "[encoded data removed]",
      "text/plain": [
       "<Figure size 864x360 with 1 Axes>"
      ]
     },
     "metadata": {
      "needs_background": "light"
     },
     "output_type": "display_data"
    }
   ],
   "source": [
    "x=coord_x\n",
    "y=coord_y\n",
    "\n",
    "plt.figure(figsize=(12,5))\n",
    "plt.scatter(x,y,color='blue')\n",
    "s=[]\n",
    "for n in range(len(coord_x)):\n",
    "    s_temp=[]\n",
    "    s_temp.append(\"%.1f\" %coord_x[n])\n",
    "    s_temp.append(\"%.1f\" %coord_y[n])\n",
    "    s.append(s_temp)\n",
    "\n",
    "plt.xlabel(\"Distancia X\")\n",
    "plt.ylabel(\"Distancia Y\")\n",
    "plt.title(\"Ubicación de las ciudades - TSP\")\n",
    "\n",
    "for n in range(len(coord_x)):\n",
    "    plt.annotate(str(s[n]), xy=(coord_x[n],coord_y[n] ), xytext=(coord_x[n]-4,coord_y[n]-4), \n",
    "                 color='purple')\n",
    "    \n",
    "for n in range(len(coord_x)):\n",
    "    plt.annotate(str(n), xy=(coord_x[n],coord_y[n] ), xytext=(coord_x[n]+0.5,coord_y[n]+1),\n",
    "                 color='red')\n",
    "\n",
    "plt.show()"
   ]
  },
  {
   "cell_type": "code",
   "execution_count": 5,
   "metadata": {},
   "outputs": [],
   "source": [
    "#Ahora debemos crear un link entre las las ciudades, sus coordenadas y la distancia entre ellas.\n",
    "\n",
    "#Los parentesis de llave significan que es un diccionario { }.De esta manera creamos un link\n",
    "# entre los arcos y la distancia.\n",
    "\n",
    "distancia={(i, j): np.hypot(coord_x[i] - coord_x[j], coord_y[i] - coord_y[j]) for i,j in arcos}"
   ]
  },
  {
   "cell_type": "raw",
   "metadata": {},
   "source": []
  },
  {
   "cell_type": "markdown",
   "metadata": {},
   "source": [
    "Creando el modelo a resolver "
   ]
  },
  {
   "cell_type": "code",
   "execution_count": 6,
   "metadata": {},
   "outputs": [],
   "source": [
    "#Iniciando el modelo\n",
    "mdl =Model('TSP')"
   ]
  },
  {
   "cell_type": "code",
   "execution_count": 7,
   "metadata": {},
   "outputs": [],
   "source": [
    "#Declaramos las variables a utilizar\n",
    "#los nombre y forma de llamar las variables es propia de CPLEX.\n",
    "\n",
    "x=mdl.binary_var_dict(arcos,name='x')\n",
    "d=mdl.continuous_var_dict(ciudades,name='d')"
   ]
  },
  {
   "cell_type": "markdown",
   "metadata": {},
   "source": [
    "Creando las restricciones "
   ]
  },
  {
   "cell_type": "markdown",
   "metadata": {},
   "source": [
    "∑∀i∈Ciudadesxi=1"
   ]
  },
  {
   "cell_type": "markdown",
   "metadata": {},
   "source": [
    "∑∀j∈Ciudadesxj=1"
   ]
  },
  {
   "cell_type": "markdown",
   "metadata": {},
   "source": [
    "ci+1≥cj+M(1−xij)"
   ]
  },
  {
   "cell_type": "code",
   "execution_count": 8,
   "metadata": {},
   "outputs": [],
   "source": [
    "# Primero restricción sumatoria para todo i\n",
    "for c in ciudades:\n",
    "    mdl.add_constraint(mdl.sum(x[(i,j)] for i,j in arcos if i==c)==1, \n",
    "                       ctname='out_%d'%c)\n",
    "# Segundo restricción sumatoria para todo j\n",
    "for c in ciudades:\n",
    "    mdl.add_constraint(mdl.sum(x[(i,j)] for i,j in arcos if j==c)==1, \n",
    "                       ctname='in_%d'%c)\n"
   ]
  },
  {
   "cell_type": "code",
   "execution_count": 9,
   "metadata": {},
   "outputs": [],
   "source": [
    "# Por último restricción lógica\n",
    "for i,j in arcos:\n",
    "    if j!=0:\n",
    "        mdl.add_indicator(x[(i,j)],d[i]+1==d[j], \n",
    "                          name='order_(%d,_%d)'%(i, j))"
   ]
  },
  {
   "cell_type": "markdown",
   "metadata": {},
   "source": [
    " Función objetivo del TPS\n"
   ]
  },
  {
   "cell_type": "markdown",
   "metadata": {},
   "source": [
    "MinZ=∑∀A xij*cij"
   ]
  },
  {
   "cell_type": "code",
   "execution_count": 10,
   "metadata": {},
   "outputs": [],
   "source": [
    "mdl.minimize(mdl.sum(distancia[i]*x[i] for i in arcos))"
   ]
  },
  {
   "cell_type": "code",
   "execution_count": 16,
   "metadata": {},
   "outputs": [],
   "source": [
    "#print(mdl.export_to_string())"
   ]
  },
  {
   "cell_type": "code",
   "execution_count": 12,
   "metadata": {},
   "outputs": [
    {
     "name": "stdout",
     "output_type": "stream",
     "text": [
      "Version identifier: 12.10.0.0 | 2019-11-27 | 843d4de2ae\n",
      "CPXPARAM_Read_DataCheck                          1\n",
      "CPXPARAM_RandomSeed                              201903125\n",
      "CPXPARAM_MIP_Strategy_Branch                     1\n",
      "CPXPARAM_TimeLimit                               120\n",
      "CPXPARAM_MIP_Tolerances_MIPGap                   0.14999999999999999\n",
      "Tried aggregator 2 times.\n",
      "MIP Presolve modified 45 coefficients.\n",
      "Aggregator did 45 substitutions.\n",
      "Reduced MIP has 77 rows, 176 columns, and 385 nonzeros.\n",
      "Reduced MIP has 110 binaries, 0 generals, 0 SOSs, and 100 indicators.\n",
      "Presolve time = 0.09 sec. (0.32 ticks)\n",
      "Probing time = 0.00 sec. (0.14 ticks)\n",
      "Tried aggregator 1 time.\n",
      "Detecting symmetries...\n",
      "Reduced MIP has 77 rows, 176 columns, and 385 nonzeros.\n",
      "Reduced MIP has 110 binaries, 0 generals, 0 SOSs, and 100 indicators.\n",
      "Presolve time = 0.02 sec. (0.25 ticks)\n",
      "Probing time = 0.00 sec. (0.14 ticks)\n",
      "Clique table members: 67.\n",
      "MIP emphasis: balance optimality and feasibility.\n",
      "MIP search method: dynamic search.\n",
      "Parallel mode: deterministic, using up to 4 threads.\n",
      "Root relaxation solution time = 0.11 sec. (0.13 ticks)\n",
      "\n",
      "        Nodes                                         Cuts/\n",
      "   Node  Left     Objective  IInf  Best Integer    Best Bound    ItCnt     Gap\n",
      "\n",
      "      0     0      239.3867    10                    239.3867        7         \n",
      "      0     0      264.4923    10                     Cuts: 5       17         \n",
      "      0     0      264.4923    10                 Impl Bds: 1       18         \n",
      "*     0+    0                          615.9435      264.4923            57.06%\n",
      "*     0+    0                          355.9820      264.4923            25.70%\n",
      "Detecting symmetries...\n",
      "      0     2      264.4923     9      355.9820      264.4923       18   25.70%\n",
      "Elapsed time = 0.69 sec. (3.97 ticks, tree = 0.02 MB, solutions = 2)\n",
      "*    19+    8                          310.6210      264.4923            14.85%\n",
      "\n",
      "Clique cuts applied:  4\n",
      "Implied bound cuts applied:  2\n",
      "\n",
      "Root node processing (before b&c):\n",
      "  Real time             =    0.69 sec. (3.93 ticks)\n",
      "Parallel b&c, 4 threads:\n",
      "  Real time             =    0.05 sec. (0.82 ticks)\n",
      "  Sync time (average)   =    0.02 sec.\n",
      "  Wait time (average)   =    0.00 sec.\n",
      "                          ------------\n",
      "Total (root+branch&cut) =    0.73 sec. (4.76 ticks)\n"
     ]
    }
   ],
   "source": [
    "mdl.parameters.timelimit=120\n",
    "mdl.parameters.mip.strategy.branch=1\n",
    "mdl.parameters.mip.tolerances.mipgap=0.15\n",
    "\n",
    "solucion = mdl.solve(log_output=True)"
   ]
  },
  {
   "cell_type": "code",
   "execution_count": 13,
   "metadata": {},
   "outputs": [
    {
     "data": {
      "text/plain": [
       "<JobSolveStatus.OPTIMAL_SOLUTION: 2>"
      ]
     },
     "execution_count": 13,
     "metadata": {},
     "output_type": "execute_result"
    }
   ],
   "source": [
    "mdl.get_solve_status()"
   ]
  },
  {
   "cell_type": "code",
   "execution_count": 14,
   "metadata": {},
   "outputs": [
    {
     "name": "stdout",
     "output_type": "stream",
     "text": [
      "solution for: TSP\n",
      "objective: 310.621\n",
      "x_0_8 = 1\n",
      "x_1_3 = 1\n",
      "x_2_10 = 1\n",
      "x_3_7 = 1\n",
      "x_4_2 = 1\n",
      "x_5_6 = 1\n",
      "x_6_4 = 1\n",
      "x_7_5 = 1\n",
      "x_8_1 = 1\n",
      "x_9_0 = 1\n",
      "x_10_9 = 1\n",
      "d_1 = 2.000\n",
      "d_2 = 8.000\n",
      "d_3 = 3.000\n",
      "d_4 = 7.000\n",
      "d_5 = 5.000\n",
      "d_6 = 6.000\n",
      "d_7 = 4.000\n",
      "d_8 = 1.000\n",
      "d_9 = 10.000\n",
      "d_10 = 9.000\n"
     ]
    }
   ],
   "source": [
    "solucion.display()"
   ]
  },
  {
   "cell_type": "code",
   "execution_count": 15,
   "metadata": {},
   "outputs": [
    {
     "data": {
      "image/png": "[encoded data removed]",
      "text/plain": [
       "<Figure size 864x360 with 1 Axes>"
      ]
     },
     "metadata": {
      "needs_background": "light"
     },
     "output_type": "display_data"
    }
   ],
   "source": [
    "\n",
    "\n",
    "#Imprimiento la solución óptima.\n",
    "\n",
    "plt.figure(figsize=(12,5))\n",
    "plt.xlabel(\"Distancia X\")\n",
    "plt.ylabel(\"Distancia Y\")\n",
    "plt.title(\"Ubicación de las ciudades - TSP\")\n",
    "\n",
    "\n",
    "arcos_activos = [i for i in arcos if x[i].solution_value > 0.9]\n",
    "for i,j in arcos_activos:\n",
    "    plt.plot([coord_x[i],coord_x[j]],[coord_y[i],coord_y[j]],\n",
    "              color='b', alpha=0.4, zorder=0)\n",
    "plt.scatter(x=coord_x, y=coord_y, color='blue', zorder=1)\n",
    "    \n",
    "for n in range(len(coord_x)):\n",
    "    plt.annotate(str(s[n]), xy=(coord_x[n],coord_y[n] ), \n",
    "                 xytext=(coord_x[n]-4,coord_y[n]-4), color='purple')\n",
    "    \n",
    "for n in range(len(coord_x)):\n",
    "    plt.annotate(str(n), xy=(coord_x[n],coord_y[n] ), \n",
    "                 xytext=(coord_x[n]+0.5,coord_y[n]+1),color='red')\n",
    "    \n",
    "plt.xlim((0,100))\n",
    "plt.ylim((0,100))\n",
    "plt.show()\n",
    "\n"
   ]
  },
  {
   "cell_type": "code",
   "execution_count": null,
   "metadata": {},
   "outputs": [],
   "source": []
  }
 ],
 "metadata": {
  "kernelspec": {
   "display_name": "Python 3",
   "language": "python",
   "name": "python3"
  },
  "language_info": {
   "codemirror_mode": {
    "name": "ipython",
    "version": 3
   },
   "file_extension": ".py",
   "mimetype": "text/x-python",
   "name": "python",
   "nbconvert_exporter": "python",
   "pygments_lexer": "ipython3",
   "version": "3.7.6"
  }
 },
 "nbformat": 4,
 "nbformat_minor": 4
}
